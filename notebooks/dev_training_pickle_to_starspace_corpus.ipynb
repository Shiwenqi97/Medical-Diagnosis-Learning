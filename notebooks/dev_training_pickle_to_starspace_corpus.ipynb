{
 "cells": [
  {
   "cell_type": "code",
   "execution_count": 1,
   "metadata": {},
   "outputs": [],
   "source": [
    "import os\n",
    "import pickle\n",
    "\n",
    "if 'notebooks' in os.getcwd():\n",
    "    os.chdir(\"../\")"
   ]
  },
  {
   "cell_type": "code",
   "execution_count": null,
   "metadata": {},
   "outputs": [],
   "source": []
  },
  {
   "cell_type": "code",
   "execution_count": 2,
   "metadata": {},
   "outputs": [
    {
     "name": "stdout",
     "output_type": "stream",
     "text": [
      "Training and validation data loaded\n"
     ]
    }
   ],
   "source": [
    "## From src/train.py\n",
    "datafolder = \"data\"\n",
    "dataset = \"base\"\n",
    "stop = None\n",
    "\n",
    "import sys\n",
    "sys.path.append(\"src\")\n",
    "from build_datasets_utils import *\n",
    "PADDING = '<PAD>'\n",
    "\n",
    "#####\n",
    "train_data = pickle.load(open(os.path.join(datafolder, dataset + \"_train_data.pkl\"), 'rb'))\n",
    "valid_data = pickle.load(open(os.path.join(datafolder, dataset + \"_valid_data.pkl\"), 'rb'))\n",
    "#labels = pickle.load(open(os.path.join(datafolder, dataset + \"_labels.pkl\"), 'rb'))\n",
    "labels = pickle.load(open(os.path.join(datafolder, \"labels.pkl\"), 'rb'))\n",
    "print(\"Training and validation data loaded\")"
   ]
  },
  {
   "cell_type": "code",
   "execution_count": 3,
   "metadata": {},
   "outputs": [
    {
     "name": "stdout",
     "output_type": "stream",
     "text": [
      "Deleting UNK\n",
      "Size of vocabulary: 15477\n",
      "Top 100 words...\n",
      "['<PAD>', 'UNK', ':', ',', 'to', 'd', 'you', '?', 'your', 'the', 'and', 'of', 'with', 'discharge', 'dd', 'or', 'a', 'for', 'in', 'please', 'on', 'instructions', 'was', 'at', 'as', 'were', 'have', '', 'diagnosis', 'call', 'is', '-', 'pain', 'no', 'mg', 'daily', 'will', 'condition', 'be', 'dr', 'any', 'if', 'medications', 'this', 'followup', 'up', 'blood', 'by', 'not', 'tablet', 'take', 'that', 'an', 'appointment', 'follow', 'one', 'status', 'weeks', 'ddd', 'from', 'are', 'should', 'care', 'day', 'primary', 'po', 'heart', 'we', 'when', 'left', 'had', 'patient', 'disease', 'it', '(d)', 'sig', 'taking', 'chest', 's/p', 'hospital', 'also', 'stable', 'may', 'medication', 'after', 'than', 'follow-up', 'right', 'failure', 'need', 'artery', 'office', 'which', 'doctor', 'continue', 'home', 'he', 'all', 'cardiac', 'following']\n",
      "\n",
      "Labels: ['4019', '4280', '42731', '41401', '5849', '25000', '2724', '51881', '5990', '53081']\n",
      ", label map: {'4019': 0, '4280': 1, '42731': 2, '41401': 3, '5849': 4, '25000': 5, '2724': 6, '51881': 7, '5990': 8, '53081': 9}\n",
      "Example encoded data...\n",
      "178393 [13, 28, 2, 5, 741, 5, 118, 90, 72, 3, 56, 265, 590, 151, 312, 615, 20, 730, 5, 2, 14, 2, 14, 406, 2, 14, 2, 14, 579, 2] [3] [ 0.  0.  0.  1.  0.  0.  0.  0.  0.  0.]\n",
      "\n",
      "Example encoded data...\n",
      "112086 [13, 28, 2, 78, 1449, 24, 3280, 3486, 389, 905, 3179, 1583, 778, 2203, 860, 979, 78, 901, 1950, 13, 37, 2, 81, 13, 21, 2, 111, 6, 82, 150, 10, 541, 186, 245, 111, 33, 295, 3, 448, 15, 534, 20, 114, 111, 33, 232, 17, 55, 217, 111, 33, 184, 204, 85, 14, 157, 17, 14, 57, 111, 29, 17, 163, 3, 218, 3, 15, 109, 111, 50, 320, 12, 723, 17, 953, 115, 154, 196, 111, 50, 1136, 17, 953, 115, 154, 196, 111, 50, 828, 271, 10, 942, 17, 5, 217, 10, 196, 111, 29, 12, 40, 166, 15, 173, 44, 21, 2, 200, 39, 200, 39, 57, 200, 39, 27] [8, 0, 5, 9] [ 1.  0.  0.  0.  0.  1.  0.  0.  1.  1.]\n",
      "\n"
     ]
    }
   ],
   "source": [
    "if stop:\n",
    "  print(\"Removing stopwords...\")\n",
    "  train_data = remove_stopwords(train_data)\n",
    "  valid_data = remove_stopwords(valid_data)\n",
    "(word_2_idx, vocab) = build_dictionary(train_data, PADDING)\n",
    "label_map = build_label_map(labels)\n",
    "print(\"Labels: {}\\n, label map: {}\".format(labels, label_map))\n",
    "train_dataset = FlatData(train_data, word_2_idx, label_map)\n",
    "valid_dataset = FlatData(valid_data, word_2_idx, label_map)"
   ]
  },
  {
   "cell_type": "code",
   "execution_count": 4,
   "metadata": {},
   "outputs": [
    {
     "name": "stdout",
     "output_type": "stream",
     "text": [
      "27135\n"
     ]
    }
   ],
   "source": [
    "print(len(train_dataset))\n",
    "#train_dataset.get_labels_words(0)\n",
    "#train_dataset.get_labels_words(len(train_dataset)-1)"
   ]
  },
  {
   "cell_type": "code",
   "execution_count": 5,
   "metadata": {},
   "outputs": [
    {
     "name": "stdout",
     "output_type": "stream",
     "text": [
      "['discharge', 'diagnosis', ':', 'd', 'hypercholesterolemia']\n",
      "['41401']\n"
     ]
    }
   ],
   "source": [
    "print(train_dataset.get_words(0)[0:5])\n",
    "print(train_dataset.get_dx_index(0))"
   ]
  },
  {
   "cell_type": "code",
   "execution_count": 6,
   "metadata": {},
   "outputs": [],
   "source": [
    "from embedding_utils import *\n"
   ]
  },
  {
   "cell_type": "code",
   "execution_count": 7,
   "metadata": {},
   "outputs": [
    {
     "name": "stdout",
     "output_type": "stream",
     "text": [
      "Finished converting labeled data to StarSpace format.\n"
     ]
    }
   ],
   "source": [
    "a = convert_flatdata_to_starspace_format(train_dataset, flag_labeled = True, label_prefix = \"__label__\")"
   ]
  },
  {
   "cell_type": "code",
   "execution_count": 8,
   "metadata": {},
   "outputs": [
    {
     "name": "stdout",
     "output_type": "stream",
     "text": [
      "Finished writing StarSpace data to file.\n"
     ]
    }
   ],
   "source": [
    "write_starspace_format(a, os.path.join(datafolder, dataset + \"_train_data_starspace.txt\"))"
   ]
  },
  {
   "cell_type": "code",
   "execution_count": 40,
   "metadata": {
    "collapsed": true
   },
   "outputs": [],
   "source": [
    "starspace_pointer = \"test_path\""
   ]
  },
  {
   "cell_type": "code",
   "execution_count": 11,
   "metadata": {},
   "outputs": [],
   "source": [
    "?map(Bool, 1)"
   ]
  },
  {
   "cell_type": "code",
   "execution_count": 13,
   "metadata": {},
   "outputs": [
    {
     "data": {
      "text/plain": [
       "False"
      ]
     },
     "execution_count": 13,
     "metadata": {},
     "output_type": "execute_result"
    }
   ],
   "source": [
    "bool(0)"
   ]
  },
  {
   "cell_type": "code",
   "execution_count": 35,
   "metadata": {},
   "outputs": [],
   "source": [
    "from subprocess import run"
   ]
  },
  {
   "cell_type": "code",
   "execution_count": 36,
   "metadata": {},
   "outputs": [
    {
     "ename": "AttributeError",
     "evalue": "'int' object has no attribute 'stdout'",
     "output_type": "error",
     "traceback": [
      "\u001b[0;31m---------------------------------------------------------------------------\u001b[0m",
      "\u001b[0;31mAttributeError\u001b[0m                            Traceback (most recent call last)",
      "\u001b[0;32m<ipython-input-36-c4f62d3c5bf2>\u001b[0m in \u001b[0;36m<module>\u001b[0;34m()\u001b[0m\n\u001b[0;32m----> 1\u001b[0;31m \u001b[0mprint\u001b[0m\u001b[0;34m(\u001b[0m\u001b[0ma\u001b[0m\u001b[0;34m.\u001b[0m\u001b[0mstdout\u001b[0m\u001b[0;34m,\u001b[0m \u001b[0ma\u001b[0m\u001b[0;34m.\u001b[0m\u001b[0mstderr\u001b[0m\u001b[0;34m)\u001b[0m\u001b[0;34m\u001b[0m\u001b[0m\n\u001b[0m\u001b[1;32m      2\u001b[0m \u001b[0mprint\u001b[0m\u001b[0;34m(\u001b[0m\u001b[0mb\u001b[0m\u001b[0;34m.\u001b[0m\u001b[0mstdout\u001b[0m\u001b[0;34m,\u001b[0m \u001b[0mb\u001b[0m\u001b[0;34m.\u001b[0m\u001b[0mstderr\u001b[0m\u001b[0;34m)\u001b[0m\u001b[0;34m\u001b[0m\u001b[0m\n\u001b[1;32m      3\u001b[0m \u001b[0mprint\u001b[0m\u001b[0;34m(\u001b[0m\u001b[0mc\u001b[0m\u001b[0;34m.\u001b[0m\u001b[0mstdout\u001b[0m\u001b[0;34m,\u001b[0m \u001b[0mc\u001b[0m\u001b[0;34m.\u001b[0m\u001b[0mstderr\u001b[0m\u001b[0;34m)\u001b[0m\u001b[0;34m\u001b[0m\u001b[0m\n",
      "\u001b[0;31mAttributeError\u001b[0m: 'int' object has no attribute 'stdout'"
     ]
    }
   ],
   "source": [
    "run([args.starspace, 'train', \n",
    "     '-trainFile', os.path.join(args.datafolder, args.dataset + \"_train_data_starspace.txt\"),\n",
    "     'model', os.path.join(args.modelfolder, 'labeled_' + args.labeled_embed + \"_starspace_embeddings\"),\n",
    "     '-trainMode', '0',\n",
    "     '-label', '\"__label__\"'])"
   ]
  },
  {
   "cell_type": "code",
   "execution_count": 38,
   "metadata": {},
   "outputs": [],
   "source": [
    "?subprocess.call"
   ]
  },
  {
   "cell_type": "code",
   "execution_count": 46,
   "metadata": {},
   "outputs": [],
   "source": [
    "a = map(str, [starspace_pointer, \"test_case\", ])"
   ]
  },
  {
   "cell_type": "code",
   "execution_count": 82,
   "metadata": {},
   "outputs": [
    {
     "name": "stdout",
     "output_type": "stream",
     "text": [
      "./Starspace/starspace train -trainFile data/base_train_data_starspace.txt -model models/labeled_1_starspace_embeddings -trainMode 0 -label __label__ -dim 50 -epoch 10 -normalizeText 0\n"
     ]
    }
   ],
   "source": [
    "ss_paras = ['./Starspace/starspace', 'train', '-trainFile', 'data/base_train_data_starspace.txt', '-model', 'models/labeled_1_starspace_embeddings', '-trainMode', '0', '-label', '__label__', '-dim', '50', '-epoch', '10', '-normalizeText', '0']\n",
    "#ss_paras = [args.starspace, 'train', '-trainFile', ss_data_path, '-model', ss_model_path, '-trainMode', '0', '-label', '__label__', '-dim', args.embeddim, '-epoch', args.epochs, '-normalizeText', '0']\n",
    "print(\" \".join(ss_paras))"
   ]
  },
  {
   "cell_type": "code",
   "execution_count": 83,
   "metadata": {},
   "outputs": [],
   "source": [
    "ss_output = subprocess.run(ss_paras, stdout=subprocess.PIPE, stderr=subprocess.PIPE)"
   ]
  },
  {
   "cell_type": "code",
   "execution_count": 88,
   "metadata": {},
   "outputs": [
    {
     "name": "stdout",
     "output_type": "stream",
     "text": [
      "Arguments: \n",
      "lr: 0.01\n",
      "dim: 50\n",
      "epoch: 10\n",
      "maxTrainTime: 8640000\n",
      "saveEveryEpoch: 0\n",
      "loss: hinge\n",
      "margin: 0.05\n",
      "similarity: cosine\n",
      "maxNegSamples: 10\n",
      "negSearchLimit: 50\n",
      "thread: 10\n",
      "minCount: 1\n",
      "minCountLabel: 1\n",
      "label: __label__\n",
      "ngrams: 1\n",
      "bucket: 2000000\n",
      "adagrad: 1\n",
      "trainMode: 0\n",
      "fileFormat: fastText\n",
      "normalizeText: 0\n",
      "dropoutLHS: 0\n",
      "dropoutRHS: 0\n",
      "Start to initialize starspace model.\n",
      "Build dict from input file : data/base_train_data_starspace.txt\n",
      "Loading data from file : data/base_train_data_starspace.txt\n",
      "Total number of examples loaded : 27135\n",
      "Training epoch 0: 0.01 0.001\n",
      "\n",
      " ---+++                Epoch    0 Train error : 0.03137254 +++--- ☃\n",
      "Training epoch 1: 0.009 0.001\n",
      "\n",
      " ---+++                Epoch    1 Train error : 0.02079385 +++--- ☃\n",
      "Training epoch 2: 0.008 0.001\n",
      "\n",
      " ---+++                Epoch    2 Train error : 0.01829440 +++--- ☃\n",
      "Training epoch 3: 0.007 0.001\n",
      "\n",
      " ---+++                Epoch    3 Train error : 0.01610263 +++--- ☃\n",
      "Training epoch 4: 0.006 0.001\n",
      "\n",
      " ---+++                Epoch    4 Train error : 0.01518565 +++--- ☃\n",
      "Training epoch 5: 0.005 0.001\n",
      "\n",
      " ---+++                Epoch    5 Train error : 0.01336196 +++--- ☃\n",
      "Training epoch 6: 0.004 0.001\n",
      "\n",
      " ---+++                Epoch    6 Train error : 0.01298740 +++--- ☃\n",
      "Training epoch 7: 0.003 0.001\n",
      "\n",
      " ---+++                Epoch    7 Train error : 0.01149045 +++--- ☃\n",
      "Training epoch 8: 0.002 0.001\n",
      "\n",
      " ---+++                Epoch    8 Train error : 0.01016329 +++--- ☃\n",
      "Training epoch 9: 0.000999999 0.001\n",
      "\n",
      " ---+++                Epoch    9 Train error : 0.00894283 +++--- ☃\n",
      "Saving model to file : models/labeled_1_starspace_embeddings\n",
      "Saving model in tsv format : models/labeled_1_starspace_embeddings.tsv\n",
      "\n",
      "\r",
      "Read 7M words\n",
      "Number of words in dictionary:  15454\n",
      "Number of labels in dictionary: 10\n",
      "\r",
      "Epoch: 3.3%  lr: 0.010000  loss: 0.068033  eta: 0h1m  tot: 0h0m0s  (0.3%)\r",
      "Epoch: 6.6%  lr: 0.010000  loss: 0.056939  eta: 0h1m  tot: 0h0m0s  (0.7%)\r",
      "Epoch: 9.9%  lr: 0.010000  loss: 0.052621  eta: 0h1m  tot: 0h0m1s  (1.0%)\r",
      "Epoch: 13.2%  lr: 0.010000  loss: 0.049960  eta: 0h1m  tot: 0h0m1s  (1.3%)\r",
      "Epoch: 16.6%  lr: 0.010000  loss: 0.048378  eta: 0h1m  tot: 0h0m1s  (1.7%)\r",
      "Epoch: 19.9%  lr: 0.010000  loss: 0.047178  eta: 0h1m  tot: 0h0m1s  (2.0%)\r",
      "Epoch: 23.2%  lr: 0.009963  loss: 0.045085  eta: 0h1m  tot: 0h0m2s  (2.3%)\r",
      "Epoch: 26.5%  lr: 0.009926  loss: 0.043366  eta: 0h1m  tot: 0h0m2s  (2.7%)\r",
      "Epoch: 29.8%  lr: 0.009889  loss: 0.042463  eta: 0h1m  tot: 0h0m2s  (3.0%)\r",
      "Epoch: 33.1%  lr: 0.009778  loss: 0.041521  eta: 0h1m  tot: 0h0m3s  (3.3%)\r",
      "Epoch: 36.5%  lr: 0.009704  loss: 0.040659  eta: 0h1m  tot: 0h0m3s  (3.6%)\r",
      "Epoch: 39.8%  lr: 0.009667  loss: 0.039974  eta: 0h1m  tot: 0h0m3s  (4.0%)\r",
      "Epoch: 43.1%  lr: 0.009667  loss: 0.039729  eta: 0h1m  tot: 0h0m4s  (4.3%)\r",
      "Epoch: 46.4%  lr: 0.009667  loss: 0.038736  eta: 0h1m  tot: 0h0m4s  (4.6%)\r",
      "Epoch: 49.7%  lr: 0.009667  loss: 0.038189  eta: 0h1m  tot: 0h0m4s  (5.0%)\r",
      "Epoch: 53.0%  lr: 0.009556  loss: 0.037796  eta: 0h1m  tot: 0h0m5s  (5.3%)\r",
      "Epoch: 56.4%  lr: 0.009556  loss: 0.037321  eta: 0h1m  tot: 0h0m5s  (5.6%)\r",
      "Epoch: 59.7%  lr: 0.009481  loss: 0.036816  eta: 0h1m  tot: 0h0m5s  (6.0%)\r",
      "Epoch: 63.0%  lr: 0.009407  loss: 0.036121  eta: 0h1m  tot: 0h0m5s  (6.3%)\r",
      "Epoch: 66.3%  lr: 0.009370  loss: 0.035545  eta: 0h1m  tot: 0h0m6s  (6.6%)\r",
      "Epoch: 69.6%  lr: 0.009370  loss: 0.035239  eta: 0h1m  tot: 0h0m6s  (7.0%)\r",
      "Epoch: 72.9%  lr: 0.009370  loss: 0.034850  eta: 0h1m  tot: 0h0m6s  (7.3%)\r",
      "Epoch: 76.3%  lr: 0.009296  loss: 0.034460  eta: 0h1m  tot: 0h0m7s  (7.6%)\r",
      "Epoch: 79.6%  lr: 0.009296  loss: 0.034012  eta: 0h1m  tot: 0h0m7s  (8.0%)\r",
      "Epoch: 82.9%  lr: 0.009259  loss: 0.033536  eta: 0h1m  tot: 0h0m7s  (8.3%)\r",
      "Epoch: 86.2%  lr: 0.009148  loss: 0.033115  eta: 0h1m  tot: 0h0m8s  (8.6%)\r",
      "Epoch: 89.5%  lr: 0.009111  loss: 0.032738  eta: 0h1m  tot: 0h0m8s  (9.0%)\r",
      "Epoch: 92.8%  lr: 0.009074  loss: 0.032470  eta: 0h1m  tot: 0h0m8s  (9.3%)\r",
      "Epoch: 96.2%  lr: 0.009037  loss: 0.032270  eta: 0h1m  tot: 0h0m9s  (9.6%)\r",
      "Epoch: 99.5%  lr: 0.009037  loss: 0.031946  eta: 0h1m  tot: 0h0m9s  (9.9%)\r",
      "Epoch: 100.0%  lr: 0.009037  loss: 0.031882  eta: 0h1m  tot: 0h0m9s  (10.0%)\r",
      "Epoch: 3.3%  lr: 0.009000  loss: 0.022854  eta: 0h1m  tot: 0h0m9s  (10.3%)\r",
      "Epoch: 6.6%  lr: 0.008889  loss: 0.022989  eta: 0h1m  tot: 0h0m10s  (10.7%)\r",
      "Epoch: 9.9%  lr: 0.008889  loss: 0.022106  eta: 0h1m  tot: 0h0m10s  (11.0%)\r",
      "Epoch: 13.2%  lr: 0.008889  loss: 0.022811  eta: 0h1m  tot: 0h0m10s  (11.3%)\r",
      "Epoch: 16.6%  lr: 0.008815  loss: 0.022856  eta: 0h1m  tot: 0h0m10s  (11.7%)\r",
      "Epoch: 19.9%  lr: 0.008778  loss: 0.023035  eta: 0h1m  tot: 0h0m11s  (12.0%)\r",
      "Epoch: 23.2%  lr: 0.008778  loss: 0.022544  eta: 0h1m  tot: 0h0m11s  (12.3%)\r",
      "Epoch: 26.5%  lr: 0.008741  loss: 0.022460  eta: 0h1m  tot: 0h0m11s  (12.7%)\r",
      "Epoch: 29.8%  lr: 0.008667  loss: 0.022266  eta: 0h1m  tot: 0h0m12s  (13.0%)\r",
      "Epoch: 33.1%  lr: 0.008667  loss: 0.022230  eta: 0h1m  tot: 0h0m12s  (13.3%)\r",
      "Epoch: 36.5%  lr: 0.008630  loss: 0.022227  eta: 0h1m  tot: 0h0m12s  (13.6%)\r",
      "Epoch: 39.8%  lr: 0.008593  loss: 0.022236  eta: 0h1m  tot: 0h0m13s  (14.0%)\r",
      "Epoch: 43.1%  lr: 0.008593  loss: 0.022157  eta: 0h1m  tot: 0h0m13s  (14.3%)\r",
      "Epoch: 46.4%  lr: 0.008556  loss: 0.021845  eta: 0h1m  tot: 0h0m13s  (14.6%)\r",
      "Epoch: 49.7%  lr: 0.008519  loss: 0.021577  eta: 0h1m  tot: 0h0m14s  (15.0%)\r",
      "Epoch: 53.0%  lr: 0.008519  loss: 0.021445  eta: 0h1m  tot: 0h0m14s  (15.3%)\r",
      "Epoch: 56.4%  lr: 0.008370  loss: 0.021241  eta: 0h1m  tot: 0h0m14s  (15.6%)\r",
      "Epoch: 59.7%  lr: 0.008370  loss: 0.021172  eta: 0h1m  tot: 0h0m15s  (16.0%)\r",
      "Epoch: 63.0%  lr: 0.008370  loss: 0.021235  eta: 0h1m  tot: 0h0m15s  (16.3%)\r",
      "Epoch: 66.3%  lr: 0.008333  loss: 0.021258  eta: 0h1m  tot: 0h0m15s  (16.6%)\r",
      "Epoch: 69.6%  lr: 0.008333  loss: 0.021152  eta: 0h1m  tot: 0h0m15s  (17.0%)\r",
      "Epoch: 72.9%  lr: 0.008333  loss: 0.021107  eta: 0h1m  tot: 0h0m16s  (17.3%)\r",
      "Epoch: 76.3%  lr: 0.008333  loss: 0.021103  eta: 0h1m  tot: 0h0m16s  (17.6%)\r",
      "Epoch: 79.6%  lr: 0.008296  loss: 0.021105  eta: 0h1m  tot: 0h0m16s  (18.0%)\r",
      "Epoch: 82.9%  lr: 0.008259  loss: 0.021079  eta: 0h1m  tot: 0h0m17s  (18.3%)\r",
      "Epoch: 86.2%  lr: 0.008222  loss: 0.020979  eta: 0h1m  tot: 0h0m17s  (18.6%)\r",
      "Epoch: 89.5%  lr: 0.008148  loss: 0.020870  eta: 0h1m  tot: 0h0m17s  (19.0%)\r",
      "Epoch: 92.8%  lr: 0.008111  loss: 0.020911  eta: 0h1m  tot: 0h0m18s  (19.3%)\r",
      "Epoch: 96.2%  lr: 0.008111  loss: 0.020890  eta: 0h1m  tot: 0h0m18s  (19.6%)\r",
      "Epoch: 99.5%  lr: 0.008037  loss: 0.020778  eta: 0h1m  tot: 0h0m18s  (19.9%)\r",
      "Epoch: 100.0%  lr: 0.008037  loss: 0.020764  eta: 0h1m  tot: 0h0m18s  (20.0%)\r",
      "Epoch: 3.3%  lr: 0.007889  loss: 0.018181  eta: 0h1m  tot: 0h0m19s  (20.3%)\r",
      "Epoch: 6.6%  lr: 0.007889  loss: 0.020674  eta: 0h1m  tot: 0h0m19s  (20.7%)\r",
      "Epoch: 9.9%  lr: 0.007889  loss: 0.019886  eta: 0h1m  tot: 0h0m20s  (21.0%)\r",
      "Epoch: 13.2%  lr: 0.007889  loss: 0.019220  eta: 0h1m  tot: 0h0m20s  (21.3%)\r",
      "Epoch: 16.6%  lr: 0.007852  loss: 0.018577  eta: 0h1m  tot: 0h0m20s  (21.7%)\r",
      "Epoch: 19.9%  lr: 0.007852  loss: 0.018447  eta: 0h1m  tot: 0h0m20s  (22.0%)\r",
      "Epoch: 23.2%  lr: 0.007852  loss: 0.018330  eta: 0h1m  tot: 0h0m21s  (22.3%)\r",
      "Epoch: 26.5%  lr: 0.007852  loss: 0.018551  eta: 0h1m  tot: 0h0m21s  (22.7%)\r",
      "Epoch: 29.8%  lr: 0.007852  loss: 0.018368  eta: 0h1m  tot: 0h0m21s  (23.0%)\r",
      "Epoch: 33.1%  lr: 0.007815  loss: 0.018567  eta: 0h1m  tot: 0h0m22s  (23.3%)\r",
      "Epoch: 36.5%  lr: 0.007704  loss: 0.018666  eta: 0h1m  tot: 0h0m22s  (23.6%)\r",
      "Epoch: 39.8%  lr: 0.007667  loss: 0.018636  eta: 0h1m  tot: 0h0m22s  (24.0%)\r",
      "Epoch: 43.1%  lr: 0.007667  loss: 0.018480  eta: 0h1m  tot: 0h0m23s  (24.3%)\r",
      "Epoch: 46.4%  lr: 0.007667  loss: 0.018364  eta: 0h1m  tot: 0h0m23s  (24.6%)\r",
      "Epoch: 49.7%  lr: 0.007630  loss: 0.018303  eta: 0h1m  tot: 0h0m24s  (25.0%)\r",
      "Epoch: 53.0%  lr: 0.007481  loss: 0.018085  eta: 0h1m  tot: 0h0m24s  (25.3%)\r",
      "Epoch: 56.4%  lr: 0.007444  loss: 0.017946  eta: 0h1m  tot: 0h0m24s  (25.6%)\r",
      "Epoch: 59.7%  lr: 0.007407  loss: 0.017813  eta: 0h1m  tot: 0h0m25s  (26.0%)\r",
      "Epoch: 63.0%  lr: 0.007407  loss: 0.017898  eta: 0h1m  tot: 0h0m25s  (26.3%)\r",
      "Epoch: 66.3%  lr: 0.007370  loss: 0.018110  eta: 0h1m  tot: 0h0m25s  (26.6%)\r",
      "Epoch: 69.6%  lr: 0.007296  loss: 0.018100  eta: 0h1m  tot: 0h0m26s  (27.0%)\r",
      "Epoch: 72.9%  lr: 0.007296  loss: 0.018059  eta: 0h1m  tot: 0h0m26s  (27.3%)\r",
      "Epoch: 76.3%  lr: 0.007222  loss: 0.018047  eta: 0h1m  tot: 0h0m26s  (27.6%)\r",
      "Epoch: 79.6%  lr: 0.007222  loss: 0.018111  eta: 0h1m  tot: 0h0m27s  (28.0%)\r",
      "Epoch: 82.9%  lr: 0.007222  loss: 0.018016  eta: 0h1m  tot: 0h0m27s  (28.3%)\r",
      "Epoch: 86.2%  lr: 0.007148  loss: 0.018000  eta: 0h1m  tot: 0h0m27s  (28.6%)\r",
      "Epoch: 89.5%  lr: 0.007148  loss: 0.017950  eta: 0h1m  tot: 0h0m28s  (29.0%)\r",
      "Epoch: 92.8%  lr: 0.007074  loss: 0.017997  eta: 0h1m  tot: 0h0m28s  (29.3%)\r",
      "Epoch: 96.2%  lr: 0.007000  loss: 0.017941  eta: 0h1m  tot: 0h0m28s  (29.6%)\r",
      "Epoch: 99.5%  lr: 0.007000  loss: 0.018004  eta: 0h1m  tot: 0h0m29s  (29.9%)\r",
      "Epoch: 100.0%  lr: 0.007000  loss: 0.018023  eta: 0h1m  tot: 0h0m29s  (30.0%)\r",
      "Epoch: 3.3%  lr: 0.006926  loss: 0.017577  eta: 0h1m  tot: 0h0m29s  (30.3%)\r",
      "Epoch: 6.6%  lr: 0.006852  loss: 0.016173  eta: 0h1m  tot: 0h0m30s  (30.7%)\r",
      "Epoch: 9.9%  lr: 0.006815  loss: 0.015766  eta: 0h1m  tot: 0h0m30s  (31.0%)\r",
      "Epoch: 13.2%  lr: 0.006778  loss: 0.015854  eta: 0h1m  tot: 0h0m31s  (31.3%)\r",
      "Epoch: 16.6%  lr: 0.006778  loss: 0.015833  eta: 0h1m  tot: 0h0m31s  (31.7%)\r",
      "Epoch: 19.9%  lr: 0.006741  loss: 0.016053  eta: 0h1m  tot: 0h0m31s  (32.0%)\r",
      "Epoch: 23.2%  lr: 0.006704  loss: 0.016050  eta: 0h1m  tot: 0h0m32s  (32.3%)\r",
      "Epoch: 26.5%  lr: 0.006630  loss: 0.016560  eta: 0h1m  tot: 0h0m32s  (32.7%)\r",
      "Epoch: 29.8%  lr: 0.006593  loss: 0.016659  eta: 0h1m  tot: 0h0m32s  (33.0%)\r",
      "Epoch: 33.1%  lr: 0.006556  loss: 0.016723  eta: 0h1m  tot: 0h0m33s  (33.3%)\r",
      "Epoch: 36.5%  lr: 0.006556  loss: 0.016628  eta: 0h1m  tot: 0h0m33s  (33.6%)\r",
      "Epoch: 39.8%  lr: 0.006519  loss: 0.016541  eta: 0h1m  tot: 0h0m33s  (34.0%)\r",
      "Epoch: 43.1%  lr: 0.006481  loss: 0.016339  eta: 0h1m  tot: 0h0m34s  (34.3%)\r",
      "Epoch: 46.4%  lr: 0.006481  loss: 0.016327  eta: 0h1m  tot: 0h0m34s  (34.6%)\r",
      "Epoch: 49.7%  lr: 0.006481  loss: 0.016330  eta: 0h1m  tot: 0h0m34s  (35.0%)\r",
      "Epoch: 53.0%  lr: 0.006407  loss: 0.016188  eta: 0h1m  tot: 0h0m35s  (35.3%)\r",
      "Epoch: 56.4%  lr: 0.006407  loss: 0.016084  eta: 0h1m  tot: 0h0m35s  (35.6%)\r",
      "Epoch: 59.7%  lr: 0.006407  loss: 0.016105  eta: 0h1m  tot: 0h0m35s  (36.0%)\r",
      "Epoch: 63.0%  lr: 0.006333  loss: 0.016134  eta: 0h1m  tot: 0h0m36s  (36.3%)\r",
      "Epoch: 66.3%  lr: 0.006333  loss: 0.016124  eta: 0h1m  tot: 0h0m36s  (36.6%)\r",
      "Epoch: 69.6%  lr: 0.006259  loss: 0.016064  eta: 0h1m  tot: 0h0m36s  (37.0%)\r",
      "Epoch: 72.9%  lr: 0.006259  loss: 0.016070  eta: 0h1m  tot: 0h0m37s  (37.3%)\r",
      "Epoch: 76.3%  lr: 0.006222  loss: 0.016019  eta: 0h1m  tot: 0h0m37s  (37.6%)\r",
      "Epoch: 79.6%  lr: 0.006185  loss: 0.016122  eta: 0h1m  tot: 0h0m37s  (38.0%)\r",
      "Epoch: 82.9%  lr: 0.006148  loss: 0.016098  eta: 0h1m  tot: 0h0m38s  (38.3%)\r",
      "Epoch: 86.2%  lr: 0.006148  loss: 0.016038  eta: 0h1m  tot: 0h0m38s  (38.6%)\r",
      "Epoch: 89.5%  lr: 0.006074  loss: 0.016042  eta: 0h1m  tot: 0h0m38s  (39.0%)\r",
      "Epoch: 92.8%  lr: 0.006074  loss: 0.016227  eta: 0h1m  tot: 0h0m39s  (39.3%)\r",
      "Epoch: 96.2%  lr: 0.006037  loss: 0.016308  eta: 0h1m  tot: 0h0m39s  (39.6%)\r",
      "Epoch: 99.5%  lr: 0.006000  loss: 0.016367  eta: 0h1m  tot: 0h0m39s  (39.9%)\r",
      "Epoch: 100.0%  lr: 0.006000  loss: 0.016349  eta: 0h1m  tot: 0h0m39s  (40.0%)\r",
      "Epoch: 3.3%  lr: 0.005963  loss: 0.016727  eta: 0h1m  tot: 0h0m40s  (40.3%)\r",
      "Epoch: 6.6%  lr: 0.005852  loss: 0.015635  eta: 0h1m  tot: 0h0m40s  (40.7%)\r",
      "Epoch: 9.9%  lr: 0.005852  loss: 0.016067  eta: <1min   tot: 0h0m41s  (41.0%)\r",
      "Epoch: 13.2%  lr: 0.005852  loss: 0.015759  eta: <1min   tot: 0h0m41s  (41.3%)\r",
      "Epoch: 16.6%  lr: 0.005852  loss: 0.015636  eta: <1min   tot: 0h0m41s  (41.7%)\r",
      "Epoch: 19.9%  lr: 0.005852  loss: 0.015989  eta: <1min   tot: 0h0m42s  (42.0%)\r",
      "Epoch: 23.2%  lr: 0.005852  loss: 0.016008  eta: <1min   tot: 0h0m42s  (42.3%)\r",
      "Epoch: 26.5%  lr: 0.005852  loss: 0.016135  eta: <1min   tot: 0h0m42s  (42.7%)\r",
      "Epoch: 29.8%  lr: 0.005815  loss: 0.016042  eta: <1min   tot: 0h0m43s  (43.0%)\r",
      "Epoch: 33.1%  lr: 0.005815  loss: 0.015828  eta: <1min   tot: 0h0m43s  (43.3%)\r",
      "Epoch: 36.5%  lr: 0.005815  loss: 0.015771  eta: <1min   tot: 0h0m43s  (43.6%)\r",
      "Epoch: 39.8%  lr: 0.005741  loss: 0.015708  eta: <1min   tot: 0h0m44s  (44.0%)\r",
      "Epoch: 43.1%  lr: 0.005741  loss: 0.015652  eta: <1min   tot: 0h0m44s  (44.3%)\r",
      "Epoch: 46.4%  lr: 0.005704  loss: 0.015620  eta: <1min   tot: 0h0m45s  (44.6%)\r",
      "Epoch: 49.7%  lr: 0.005667  loss: 0.015489  eta: <1min   tot: 0h0m45s  (45.0%)\r",
      "Epoch: 53.0%  lr: 0.005556  loss: 0.015585  eta: <1min   tot: 0h0m45s  (45.3%)\r",
      "Epoch: 56.4%  lr: 0.005519  loss: 0.015605  eta: <1min   tot: 0h0m46s  (45.6%)\r",
      "Epoch: 59.7%  lr: 0.005444  loss: 0.015586  eta: <1min   tot: 0h0m46s  (46.0%)\r",
      "Epoch: 63.0%  lr: 0.005407  loss: 0.015548  eta: <1min   tot: 0h0m46s  (46.3%)\r",
      "Epoch: 66.3%  lr: 0.005370  loss: 0.015500  eta: <1min   tot: 0h0m47s  (46.6%)\r",
      "Epoch: 69.6%  lr: 0.005333  loss: 0.015598  eta: <1min   tot: 0h0m47s  (47.0%)\r",
      "Epoch: 72.9%  lr: 0.005222  loss: 0.015645  eta: <1min   tot: 0h0m48s  (47.3%)\r",
      "Epoch: 76.3%  lr: 0.005222  loss: 0.015652  eta: <1min   tot: 0h0m48s  (47.6%)\r",
      "Epoch: 79.6%  lr: 0.005222  loss: 0.015700  eta: <1min   tot: 0h0m48s  (48.0%)\r",
      "Epoch: 82.9%  lr: 0.005148  loss: 0.015596  eta: <1min   tot: 0h0m48s  (48.3%)\r",
      "Epoch: 86.2%  lr: 0.005148  loss: 0.015608  eta: <1min   tot: 0h0m49s  (48.6%)\r",
      "Epoch: 89.5%  lr: 0.005148  loss: 0.015609  eta: <1min   tot: 0h0m49s  (49.0%)\r",
      "Epoch: 92.8%  lr: 0.005111  loss: 0.015614  eta: <1min   tot: 0h0m49s  (49.3%)\r",
      "Epoch: 96.2%  lr: 0.005037  loss: 0.015607  eta: <1min   tot: 0h0m50s  (49.6%)\r",
      "Epoch: 99.5%  lr: 0.005000  loss: 0.015575  eta: <1min   tot: 0h0m50s  (49.9%)\r",
      "Epoch: 100.0%  lr: 0.005000  loss: 0.015580  eta: <1min   tot: 0h0m50s  (50.0%)\r",
      "Epoch: 3.3%  lr: 0.005000  loss: 0.011910  eta: <1min   tot: 0h0m51s  (50.3%)\r",
      "Epoch: 6.6%  lr: 0.004963  loss: 0.013459  eta: <1min   tot: 0h0m51s  (50.7%)\r",
      "Epoch: 9.9%  lr: 0.004815  loss: 0.014336  eta: <1min   tot: 0h0m51s  (51.0%)\r",
      "Epoch: 13.2%  lr: 0.004778  loss: 0.014552  eta: <1min   tot: 0h0m52s  (51.3%)\r",
      "Epoch: 16.6%  lr: 0.004704  loss: 0.014460  eta: <1min   tot: 0h0m52s  (51.7%)\r",
      "Epoch: 19.9%  lr: 0.004667  loss: 0.014267  eta: <1min   tot: 0h0m52s  (52.0%)\r",
      "Epoch: 23.2%  lr: 0.004667  loss: 0.014207  eta: <1min   tot: 0h0m53s  (52.3%)\r",
      "Epoch: 26.5%  lr: 0.004630  loss: 0.014056  eta: <1min   tot: 0h0m53s  (52.7%)\r",
      "Epoch: 29.8%  lr: 0.004630  loss: 0.013859  eta: <1min   tot: 0h0m53s  (53.0%)\r",
      "Epoch: 33.1%  lr: 0.004593  loss: 0.013804  eta: <1min   tot: 0h0m54s  (53.3%)\r",
      "Epoch: 36.5%  lr: 0.004556  loss: 0.013688  eta: <1min   tot: 0h0m54s  (53.6%)\r",
      "Epoch: 39.8%  lr: 0.004556  loss: 0.013583  eta: <1min   tot: 0h0m54s  (54.0%)\r",
      "Epoch: 43.1%  lr: 0.004519  loss: 0.013594  eta: <1min   tot: 0h0m55s  (54.3%)\r",
      "Epoch: 46.4%  lr: 0.004519  loss: 0.013572  eta: <1min   tot: 0h0m55s  (54.6%)\r",
      "Epoch: 49.7%  lr: 0.004519  loss: 0.013516  eta: <1min   tot: 0h0m55s  (55.0%)\r",
      "Epoch: 53.0%  lr: 0.004370  loss: 0.013413  eta: <1min   tot: 0h0m56s  (55.3%)\r",
      "Epoch: 56.4%  lr: 0.004370  loss: 0.013435  eta: <1min   tot: 0h0m56s  (55.6%)\r",
      "Epoch: 59.7%  lr: 0.004370  loss: 0.013476  eta: <1min   tot: 0h0m56s  (56.0%)\r",
      "Epoch: 63.0%  lr: 0.004370  loss: 0.013376  eta: <1min   tot: 0h0m57s  (56.3%)\r",
      "Epoch: 66.3%  lr: 0.004296  loss: 0.013391  eta: <1min   tot: 0h0m57s  (56.6%)\r",
      "Epoch: 69.6%  lr: 0.004259  loss: 0.013306  eta: <1min   tot: 0h0m58s  (57.0%)\r",
      "Epoch: 72.9%  lr: 0.004259  loss: 0.013220  eta: <1min   tot: 0h0m58s  (57.3%)\r",
      "Epoch: 76.3%  lr: 0.004259  loss: 0.013281  eta: <1min   tot: 0h0m58s  (57.6%)\r",
      "Epoch: 79.6%  lr: 0.004222  loss: 0.013274  eta: <1min   tot: 0h0m58s  (58.0%)\r",
      "Epoch: 82.9%  lr: 0.004222  loss: 0.013297  eta: <1min   tot: 0h0m59s  (58.3%)\r",
      "Epoch: 86.2%  lr: 0.004185  loss: 0.013258  eta: <1min   tot: 0h0m59s  (58.6%)\r",
      "Epoch: 89.5%  lr: 0.004148  loss: 0.013236  eta: <1min   tot: 0h0m59s  (59.0%)\r",
      "Epoch: 92.8%  lr: 0.004074  loss: 0.013242  eta: <1min   tot: 0h1m0s  (59.3%)\r",
      "Epoch: 96.2%  lr: 0.004000  loss: 0.013244  eta: <1min   tot: 0h1m0s  (59.6%)\r",
      "Epoch: 99.5%  lr: 0.004000  loss: 0.013224  eta: <1min   tot: 0h1m0s  (59.9%)\r",
      "Epoch: 100.0%  lr: 0.004000  loss: 0.013232  eta: <1min   tot: 0h1m0s  (60.0%)\r",
      "Epoch: 3.3%  lr: 0.004000  loss: 0.011043  eta: <1min   tot: 0h1m1s  (60.3%)\r",
      "Epoch: 6.6%  lr: 0.004000  loss: 0.011657  eta: <1min   tot: 0h1m2s  (60.7%)\r",
      "Epoch: 9.9%  lr: 0.003963  loss: 0.012466  eta: <1min   tot: 0h1m2s  (61.0%)\r",
      "Epoch: 13.2%  lr: 0.003926  loss: 0.013117  eta: <1min   tot: 0h1m2s  (61.3%)\r",
      "Epoch: 16.6%  lr: 0.003926  loss: 0.013263  eta: <1min   tot: 0h1m2s  (61.7%)\r",
      "Epoch: 19.9%  lr: 0.003852  loss: 0.013061  eta: <1min   tot: 0h1m3s  (62.0%)\r",
      "Epoch: 23.2%  lr: 0.003704  loss: 0.013136  eta: <1min   tot: 0h1m3s  (62.3%)\r",
      "Epoch: 26.5%  lr: 0.003704  loss: 0.012859  eta: <1min   tot: 0h1m4s  (62.7%)\r",
      "Epoch: 29.8%  lr: 0.003704  loss: 0.012831  eta: <1min   tot: 0h1m4s  (63.0%)\r",
      "Epoch: 33.1%  lr: 0.003667  loss: 0.012899  eta: <1min   tot: 0h1m4s  (63.3%)\r",
      "Epoch: 36.5%  lr: 0.003667  loss: 0.012909  eta: <1min   tot: 0h1m5s  (63.6%)\r",
      "Epoch: 39.8%  lr: 0.003667  loss: 0.012895  eta: <1min   tot: 0h1m5s  (64.0%)\r",
      "Epoch: 43.1%  lr: 0.003593  loss: 0.012988  eta: <1min   tot: 0h1m5s  (64.3%)\r",
      "Epoch: 46.4%  lr: 0.003593  loss: 0.013080  eta: <1min   tot: 0h1m5s  (64.6%)\r",
      "Epoch: 49.7%  lr: 0.003593  loss: 0.013009  eta: <1min   tot: 0h1m6s  (65.0%)\r",
      "Epoch: 53.0%  lr: 0.003593  loss: 0.013125  eta: <1min   tot: 0h1m6s  (65.3%)\r",
      "Epoch: 56.4%  lr: 0.003519  loss: 0.013098  eta: <1min   tot: 0h1m6s  (65.6%)\r",
      "Epoch: 59.7%  lr: 0.003519  loss: 0.013127  eta: <1min   tot: 0h1m7s  (66.0%)\r",
      "Epoch: 63.0%  lr: 0.003407  loss: 0.013053  eta: <1min   tot: 0h1m7s  (66.3%)\r",
      "Epoch: 66.3%  lr: 0.003407  loss: 0.013095  eta: <1min   tot: 0h1m7s  (66.6%)\r",
      "Epoch: 69.6%  lr: 0.003370  loss: 0.013041  eta: <1min   tot: 0h1m8s  (67.0%)\r",
      "Epoch: 72.9%  lr: 0.003333  loss: 0.013040  eta: <1min   tot: 0h1m8s  (67.3%)\r",
      "Epoch: 76.3%  lr: 0.003296  loss: 0.012944  eta: <1min   tot: 0h1m8s  (67.6%)\r",
      "Epoch: 79.6%  lr: 0.003259  loss: 0.012924  eta: <1min   tot: 0h1m9s  (68.0%)\r",
      "Epoch: 82.9%  lr: 0.003259  loss: 0.012890  eta: <1min   tot: 0h1m9s  (68.3%)\r",
      "Epoch: 86.2%  lr: 0.003185  loss: 0.012953  eta: <1min   tot: 0h1m9s  (68.6%)\r",
      "Epoch: 89.5%  lr: 0.003148  loss: 0.012923  eta: <1min   tot: 0h1m10s  (69.0%)\r",
      "Epoch: 92.8%  lr: 0.003111  loss: 0.012893  eta: <1min   tot: 0h1m10s  (69.3%)\r",
      "Epoch: 96.2%  lr: 0.003111  loss: 0.012874  eta: <1min   tot: 0h1m10s  (69.6%)\r",
      "Epoch: 99.5%  lr: 0.003037  loss: 0.012818  eta: <1min   tot: 0h1m11s  (69.9%)\r",
      "Epoch: 100.0%  lr: 0.003037  loss: 0.012812  eta: <1min   tot: 0h1m11s  (70.0%)\r",
      "Epoch: 3.3%  lr: 0.002963  loss: 0.012772  eta: <1min   tot: 0h1m11s  (70.3%)\r",
      "Epoch: 6.6%  lr: 0.002926  loss: 0.012702  eta: <1min   tot: 0h1m11s  (70.7%)\r",
      "Epoch: 9.9%  lr: 0.002889  loss: 0.012676  eta: <1min   tot: 0h1m12s  (71.0%)\r",
      "Epoch: 13.2%  lr: 0.002889  loss: 0.012606  eta: <1min   tot: 0h1m12s  (71.3%)\r",
      "Epoch: 16.6%  lr: 0.002852  loss: 0.012486  eta: <1min   tot: 0h1m12s  (71.7%)\r",
      "Epoch: 19.9%  lr: 0.002778  loss: 0.012263  eta: <1min   tot: 0h1m13s  (72.0%)\r",
      "Epoch: 23.2%  lr: 0.002741  loss: 0.012075  eta: <1min   tot: 0h1m13s  (72.3%)\r",
      "Epoch: 26.5%  lr: 0.002704  loss: 0.011716  eta: <1min   tot: 0h1m13s  (72.7%)\r",
      "Epoch: 29.8%  lr: 0.002704  loss: 0.011713  eta: <1min   tot: 0h1m14s  (73.0%)\r",
      "Epoch: 33.1%  lr: 0.002667  loss: 0.011602  eta: <1min   tot: 0h1m14s  (73.3%)\r",
      "Epoch: 36.5%  lr: 0.002667  loss: 0.011784  eta: <1min   tot: 0h1m14s  (73.6%)\r",
      "Epoch: 39.8%  lr: 0.002667  loss: 0.011866  eta: <1min   tot: 0h1m15s  (74.0%)\r",
      "Epoch: 43.1%  lr: 0.002593  loss: 0.011715  eta: <1min   tot: 0h1m15s  (74.3%)\r",
      "Epoch: 46.4%  lr: 0.002593  loss: 0.011694  eta: <1min   tot: 0h1m16s  (74.6%)\r",
      "Epoch: 49.7%  lr: 0.002519  loss: 0.011561  eta: <1min   tot: 0h1m16s  (75.0%)\r",
      "Epoch: 53.0%  lr: 0.002519  loss: 0.011614  eta: <1min   tot: 0h1m17s  (75.3%)\r",
      "Epoch: 56.4%  lr: 0.002444  loss: 0.011666  eta: <1min   tot: 0h1m17s  (75.6%)\r",
      "Epoch: 59.7%  lr: 0.002370  loss: 0.011668  eta: <1min   tot: 0h1m17s  (76.0%)\r",
      "Epoch: 63.0%  lr: 0.002333  loss: 0.011701  eta: <1min   tot: 0h1m18s  (76.3%)\r",
      "Epoch: 66.3%  lr: 0.002333  loss: 0.011687  eta: <1min   tot: 0h1m18s  (76.6%)\r",
      "Epoch: 69.6%  lr: 0.002259  loss: 0.011751  eta: <1min   tot: 0h1m18s  (77.0%)\r",
      "Epoch: 72.9%  lr: 0.002259  loss: 0.011709  eta: <1min   tot: 0h1m19s  (77.3%)\r",
      "Epoch: 76.3%  lr: 0.002259  loss: 0.011720  eta: <1min   tot: 0h1m19s  (77.6%)\r",
      "Epoch: 79.6%  lr: 0.002148  loss: 0.011725  eta: <1min   tot: 0h1m20s  (78.0%)\r",
      "Epoch: 82.9%  lr: 0.002148  loss: 0.011742  eta: <1min   tot: 0h1m20s  (78.3%)\r",
      "Epoch: 86.2%  lr: 0.002148  loss: 0.011734  eta: <1min   tot: 0h1m20s  (78.6%)\r",
      "Epoch: 89.5%  lr: 0.002111  loss: 0.011744  eta: <1min   tot: 0h1m21s  (79.0%)\r",
      "Epoch: 92.8%  lr: 0.002111  loss: 0.011713  eta: <1min   tot: 0h1m21s  (79.3%)\r",
      "Epoch: 96.2%  lr: 0.002000  loss: 0.011721  eta: <1min   tot: 0h1m21s  (79.6%)\r",
      "Epoch: 99.5%  lr: 0.002000  loss: 0.011683  eta: <1min   tot: 0h1m22s  (79.9%)\r",
      "Epoch: 100.0%  lr: 0.002000  loss: 0.011691  eta: <1min   tot: 0h1m22s  (80.0%)\r",
      "Epoch: 3.3%  lr: 0.002000  loss: 0.011669  eta: <1min   tot: 0h1m22s  (80.3%)\r",
      "Epoch: 6.6%  lr: 0.002000  loss: 0.011704  eta: <1min   tot: 0h1m22s  (80.7%)\r",
      "Epoch: 9.9%  lr: 0.001926  loss: 0.010730  eta: <1min   tot: 0h1m23s  (81.0%)\r",
      "Epoch: 13.2%  lr: 0.001889  loss: 0.010774  eta: <1min   tot: 0h1m23s  (81.3%)\r",
      "Epoch: 16.6%  lr: 0.001815  loss: 0.010811  eta: <1min   tot: 0h1m23s  (81.7%)\r",
      "Epoch: 19.9%  lr: 0.001741  loss: 0.010854  eta: <1min   tot: 0h1m23s  (82.0%)\r",
      "Epoch: 23.2%  lr: 0.001741  loss: 0.010715  eta: <1min   tot: 0h1m24s  (82.3%)\r",
      "Epoch: 26.5%  lr: 0.001704  loss: 0.010954  eta: <1min   tot: 0h1m24s  (82.7%)\r",
      "Epoch: 29.8%  lr: 0.001667  loss: 0.010886  eta: <1min   tot: 0h1m24s  (83.0%)\r",
      "Epoch: 33.1%  lr: 0.001593  loss: 0.010939  eta: <1min   tot: 0h1m25s  (83.3%)\r",
      "Epoch: 36.5%  lr: 0.001556  loss: 0.010829  eta: <1min   tot: 0h1m25s  (83.6%)\r",
      "Epoch: 39.8%  lr: 0.001556  loss: 0.010793  eta: <1min   tot: 0h1m25s  (84.0%)\r",
      "Epoch: 43.1%  lr: 0.001519  loss: 0.010709  eta: <1min   tot: 0h1m26s  (84.3%)\r",
      "Epoch: 46.4%  lr: 0.001519  loss: 0.010732  eta: <1min   tot: 0h1m26s  (84.6%)\r",
      "Epoch: 49.7%  lr: 0.001481  loss: 0.010716  eta: <1min   tot: 0h1m26s  (85.0%)\r",
      "Epoch: 53.0%  lr: 0.001481  loss: 0.010529  eta: <1min   tot: 0h1m27s  (85.3%)\r",
      "Epoch: 56.4%  lr: 0.001444  loss: 0.010514  eta: <1min   tot: 0h1m27s  (85.6%)\r",
      "Epoch: 59.7%  lr: 0.001444  loss: 0.010588  eta: <1min   tot: 0h1m27s  (86.0%)\r",
      "Epoch: 63.0%  lr: 0.001370  loss: 0.010512  eta: <1min   tot: 0h1m28s  (86.3%)\r",
      "Epoch: 66.3%  lr: 0.001370  loss: 0.010526  eta: <1min   tot: 0h1m28s  (86.6%)\r",
      "Epoch: 69.6%  lr: 0.001370  loss: 0.010443  eta: <1min   tot: 0h1m28s  (87.0%)\r",
      "Epoch: 72.9%  lr: 0.001370  loss: 0.010422  eta: <1min   tot: 0h1m29s  (87.3%)\r",
      "Epoch: 76.3%  lr: 0.001296  loss: 0.010422  eta: <1min   tot: 0h1m29s  (87.6%)\r",
      "Epoch: 79.6%  lr: 0.001259  loss: 0.010397  eta: <1min   tot: 0h1m29s  (88.0%)\r",
      "Epoch: 82.9%  lr: 0.001222  loss: 0.010465  eta: <1min   tot: 0h1m30s  (88.3%)\r",
      "Epoch: 86.2%  lr: 0.001222  loss: 0.010402  eta: <1min   tot: 0h1m30s  (88.6%)\r",
      "Epoch: 89.5%  lr: 0.001148  loss: 0.010408  eta: <1min   tot: 0h1m30s  (89.0%)\r",
      "Epoch: 92.8%  lr: 0.001148  loss: 0.010371  eta: <1min   tot: 0h1m31s  (89.3%)\r",
      "Epoch: 96.2%  lr: 0.001037  loss: 0.010374  eta: <1min   tot: 0h1m31s  (89.6%)\r",
      "Epoch: 99.5%  lr: 0.001000  loss: 0.010368  eta: <1min   tot: 0h1m31s  (89.9%)\r",
      "Epoch: 100.0%  lr: 0.001000  loss: 0.010379  eta: <1min   tot: 0h1m31s  (90.0%)\r",
      "Epoch: 3.3%  lr: 0.000963  loss: 0.009677  eta: <1min   tot: 0h1m32s  (90.3%)\r",
      "Epoch: 6.6%  lr: 0.000926  loss: 0.009140  eta: <1min   tot: 0h1m32s  (90.7%)\r",
      "Epoch: 9.9%  lr: 0.000852  loss: 0.008665  eta: <1min   tot: 0h1m33s  (91.0%)\r",
      "Epoch: 13.2%  lr: 0.000815  loss: 0.008970  eta: <1min   tot: 0h1m33s  (91.3%)\r",
      "Epoch: 16.6%  lr: 0.000815  loss: 0.008931  eta: <1min   tot: 0h1m33s  (91.7%)\r",
      "Epoch: 19.9%  lr: 0.000778  loss: 0.009121  eta: <1min   tot: 0h1m34s  (92.0%)\r",
      "Epoch: 23.2%  lr: 0.000778  loss: 0.009274  eta: <1min   tot: 0h1m34s  (92.3%)\r",
      "Epoch: 26.5%  lr: 0.000741  loss: 0.009361  eta: <1min   tot: 0h1m34s  (92.7%)\r",
      "Epoch: 29.8%  lr: 0.000704  loss: 0.009390  eta: <1min   tot: 0h1m35s  (93.0%)\r",
      "Epoch: 33.1%  lr: 0.000667  loss: 0.009345  eta: <1min   tot: 0h1m35s  (93.3%)\r",
      "Epoch: 36.5%  lr: 0.000630  loss: 0.009309  eta: <1min   tot: 0h1m36s  (93.6%)\r",
      "Epoch: 39.8%  lr: 0.000630  loss: 0.009297  eta: <1min   tot: 0h1m36s  (94.0%)\r",
      "Epoch: 43.1%  lr: 0.000593  loss: 0.009364  eta: <1min   tot: 0h1m36s  (94.3%)\r",
      "Epoch: 46.4%  lr: 0.000556  loss: 0.009395  eta: <1min   tot: 0h1m37s  (94.6%)\r",
      "Epoch: 49.7%  lr: 0.000556  loss: 0.009415  eta: <1min   tot: 0h1m37s  (95.0%)\r",
      "Epoch: 53.0%  lr: 0.000481  loss: 0.009384  eta: <1min   tot: 0h1m37s  (95.3%)\r",
      "Epoch: 56.4%  lr: 0.000444  loss: 0.009357  eta: <1min   tot: 0h1m38s  (95.6%)\r",
      "Epoch: 59.7%  lr: 0.000407  loss: 0.009296  eta: <1min   tot: 0h1m38s  (96.0%)\r",
      "Epoch: 63.0%  lr: 0.000407  loss: 0.009285  eta: <1min   tot: 0h1m39s  (96.3%)\r",
      "Epoch: 66.3%  lr: 0.000407  loss: 0.009268  eta: <1min   tot: 0h1m39s  (96.6%)\r",
      "Epoch: 69.6%  lr: 0.000407  loss: 0.009291  eta: <1min   tot: 0h1m39s  (97.0%)\r",
      "Epoch: 72.9%  lr: 0.000333  loss: 0.009307  eta: <1min   tot: 0h1m40s  (97.3%)\r",
      "Epoch: 76.3%  lr: 0.000296  loss: 0.009225  eta: <1min   tot: 0h1m40s  (97.6%)\r",
      "Epoch: 79.6%  lr: 0.000259  loss: 0.009162  eta: <1min   tot: 0h1m41s  (98.0%)\r",
      "Epoch: 82.9%  lr: 0.000259  loss: 0.009162  eta: <1min   tot: 0h1m41s  (98.3%)\r",
      "Epoch: 86.2%  lr: 0.000259  loss: 0.009125  eta: <1min   tot: 0h1m41s  (98.6%)\r",
      "Epoch: 89.5%  lr: 0.000185  loss: 0.009131  eta: <1min   tot: 0h1m42s  (99.0%)\r",
      "Epoch: 92.8%  lr: 0.000148  loss: 0.009125  eta: <1min   tot: 0h1m42s  (99.3%)\r",
      "Epoch: 96.2%  lr: 0.000074  loss: 0.009085  eta: <1min   tot: 0h1m43s  (99.6%)\r",
      "Epoch: 99.5%  lr: -0.000000  loss: 0.009078  eta: <1min   tot: 0h1m43s  (99.9%)\r",
      "Epoch: 100.0%  lr: -0.000000  loss: 0.009083  eta: <1min   tot: 0h1m43s  (100.0%)\n"
     ]
    }
   ],
   "source": [
    "print(ss_output.stdout.decode('utf-8'))\n",
    "print(ss_output.stderr.decode('utf-8'))"
   ]
  },
  {
   "cell_type": "code",
   "execution_count": 98,
   "metadata": {},
   "outputs": [],
   "source": [
    "last_output = \" \".join(ss_output.stdout.decode(\"utf-8\").split('\\n')[-2:])\n",
    "\n",
    "if \"Saving model in tsv format\" not in last_output:\n",
    "    print('Starspace did not complete. PANIC! \\nReverting to default initialization.')\n",
    "    args.init_embed = 0"
   ]
  },
  {
   "cell_type": "code",
   "execution_count": null,
   "metadata": {
    "collapsed": true
   },
   "outputs": [],
   "source": []
  }
 ],
 "metadata": {
  "kernelspec": {
   "display_name": "Python 3",
   "language": "python",
   "name": "python3"
  },
  "language_info": {
   "codemirror_mode": {
    "name": "ipython",
    "version": 3
   },
   "file_extension": ".py",
   "mimetype": "text/x-python",
   "name": "python",
   "nbconvert_exporter": "python",
   "pygments_lexer": "ipython3",
   "version": "3.6.2"
  }
 },
 "nbformat": 4,
 "nbformat_minor": 2
}
