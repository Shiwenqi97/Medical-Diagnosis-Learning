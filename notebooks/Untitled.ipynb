{
 "cells": [
  {
   "cell_type": "code",
   "execution_count": 1,
   "metadata": {
    "collapsed": true
   },
   "outputs": [],
   "source": [
    "import matplotlib.pyplot as plt\n",
    "import pickle\n",
    "%matplotlib inline"
   ]
  },
  {
   "cell_type": "code",
   "execution_count": 2,
   "metadata": {
    "collapsed": true
   },
   "outputs": [],
   "source": [
    "logs = pickle.loads(open('../data/results_summaries_50label_vocab50_maxseq500.pkl', 'r').read())"
   ]
  },
  {
   "cell_type": "code",
   "execution_count": 3,
   "metadata": {},
   "outputs": [
    {
     "data": {
      "text/plain": [
       "['loss_log', 'val_loss_log', 'val_acc_log', 'step_log', 'train_acc_log']"
      ]
     },
     "execution_count": 3,
     "metadata": {},
     "output_type": "execute_result"
    }
   ],
   "source": [
    "logs.keys()"
   ]
  },
  {
   "cell_type": "code",
   "execution_count": 6,
   "metadata": {},
   "outputs": [
    {
     "data": {
      "text/plain": [
       "[]"
      ]
     },
     "execution_count": 6,
     "metadata": {},
     "output_type": "execute_result"
    }
   ],
   "source": [
    "logs['step_log']"
   ]
  },
  {
   "cell_type": "code",
   "execution_count": 4,
   "metadata": {
    "scrolled": false
   },
   "outputs": [
    {
     "data": {
      "text/plain": [
       "[<matplotlib.lines.Line2D at 0x105fc75d0>]"
      ]
     },
     "execution_count": 4,
     "metadata": {},
     "output_type": "execute_result"
    },
    {
     "data": {
      "image/png": "[encoded data removed]",
      "text/plain": [
       "<matplotlib.figure.Figure at 0x104c6d090>"
      ]
     },
     "metadata": {},
     "output_type": "display_data"
    }
   ],
   "source": [
    "plt.plot(logs['step_log'], logs['loss_log'])\n",
    "plt.plot(logs['step_log'], logs['val_loss_log'])"
   ]
  },
  {
   "cell_type": "markdown",
   "metadata": {},
   "source": [
    "## Preprocessing and Analysis by summary extraction"
   ]
  },
  {
   "cell_type": "code",
   "execution_count": 1,
   "metadata": {
    "collapsed": true
   },
   "outputs": [],
   "source": [
    "import re\n",
    "import string\n",
    "f=open('outliers.txt', 'w')\n",
    "def ext_summ(raw, _str):\n",
    "    st_ind = raw.index(_str)\n",
    "    if '\\n\\n' in raw[st_ind:]:\n",
    "        _break = raw[st_ind:].index('\\n\\n')\n",
    "    elif '.\\n' in raw[st_ind:]:\n",
    "        _break = raw[st_ind:].index('.\\n')\n",
    "            \n",
    "    raw = raw[st_ind:st_ind+_break].replace(_str, '')\n",
    "    raw = re.sub('\\[\\*\\*.*\\*\\*\\]|_', ' ', raw).replace('  ', ' ')\n",
    "    fine = []\n",
    "    for s in raw.split('\\n'):        \n",
    "        s = s.translate(None, string.punctuation).strip(' ')\n",
    "        if len(s):\n",
    "            fine.append(s)\n",
    "    return ', '.join(fine)"
   ]
  },
  {
   "cell_type": "code",
   "execution_count": 2,
   "metadata": {
    "scrolled": true
   },
   "outputs": [
    {
     "name": "stdout",
     "output_type": "stream",
     "text": [
      "2083180 41972 2181 1613 41327\n"
     ]
    }
   ],
   "source": [
    "import csv\n",
    "_count = 0\n",
    "dd = 0\n",
    "fd = 0\n",
    "both = 0\n",
    "summaries = []\n",
    "hadm = []\n",
    "with open('../data/mimic/NOTEEVENTS.csv', 'rb') as f:\n",
    "    rea = csv.reader(f, delimiter=',', quotechar='\"')\n",
    "    _ = next(rea)\n",
    "    for _,row in enumerate(rea):\n",
    "        _count +=1\n",
    "        isdd, isfd = False, False        \n",
    "        row[-1] = row[-1].lower()\n",
    "        if 'discharge diagnosis:' in row[-1]:\n",
    "            dd +=1\n",
    "            isdd = True\n",
    "            summaries.append([row[2], ext_summ(row[-1], 'discharge diagnosis:')])\n",
    "        if 'final diagnosis:' in row[-1]:\n",
    "            fd +=1\n",
    "            isfd = True\n",
    "            summaries.append([row[2], ext_summ(row[-1], 'final diagnosis:')])\n",
    "        if isdd and isfd:\n",
    "            both += 1\n",
    "        if isdd or isfd:            \n",
    "            hadm.append(row[2])\n",
    "print _count, dd, fd, both , len(list(set(hadm)))"
   ]
  },
  {
   "cell_type": "code",
   "execution_count": 3,
   "metadata": {
    "collapsed": true,
    "scrolled": true
   },
   "outputs": [],
   "source": [
    "from collections import Counter\n",
    "label_fd = {}\n",
    "adm_label = {}\n",
    "with open('../data/mimic/DIAGNOSES_ICD.csv', 'rb') as f:\n",
    "    rea = csv.reader(f, delimiter=',', quotechar='\"')\n",
    "    _ = next(rea)\n",
    "    for _,row in enumerate(rea):\n",
    "        if row[-2].isdigit() and int(row[-2])!=1:\n",
    "            continue\n",
    "        try:\n",
    "            label_fd[row[-1]].append(row[2])\n",
    "        except:\n",
    "            label_fd[row[-1]] = [row[2]]\n",
    "        try:\n",
    "            adm_label[row[2]].append(row[-1])\n",
    "        except:\n",
    "            adm_label[row[2]] = [row[-1]]\n",
    "            \n",
    "top_labels = [(_[0], len(_[1])) for _ in sorted(label_fd.iteritems(), key=lambda (x,y):len(y), reverse=True)[:50]]"
   ]
  },
  {
   "cell_type": "code",
   "execution_count": 137,
   "metadata": {},
   "outputs": [
    {
     "data": {
      "text/plain": [
       "21263"
      ]
     },
     "execution_count": 137,
     "metadata": {},
     "output_type": "execute_result"
    }
   ],
   "source": [
    "label_ids = [_[0] for _ in top_labels]\n",
    "final_summ_count = 0\n",
    "for note in summaries:\n",
    "    if adm_label.get(note[0]):\n",
    "        for _ in adm_label[note[0]]:\n",
    "            if _ in label_ids:\n",
    "                final_summ_count +=1\n",
    "                break\n",
    "final_summ_count        "
   ]
  },
  {
   "cell_type": "code",
   "execution_count": null,
   "metadata": {
    "collapsed": true
   },
   "outputs": [],
   "source": [
    "final_data = []\n",
    "for note in summaries:\n",
    "    final_data.append(note+[','.join(adm_label)])\n",
    "\n",
    "with open('../data/summaries_labels.csv', 'wb') as f:\n",
    "    wri = csv.writer(f, delimiter=',', quotechar='\"')\n",
    "    wri.writerows(final_data)\n",
    "    "
   ]
  },
  {
   "cell_type": "code",
   "execution_count": null,
   "metadata": {
    "collapsed": true
   },
   "outputs": [],
   "source": [
    "with open('../data/top50_labels.csv', 'wb') as f:\n",
    "    wri = csv.writer(f, delimiter=',', quotechar='\"')\n",
    "    wri.writerows(top_labels) "
   ]
  },
  {
   "cell_type": "code",
   "execution_count": null,
   "metadata": {
    "collapsed": true
   },
   "outputs": [],
   "source": [
    "# freq dist of discharge summary per hadm to see if learning a seq of discharge summary \n",
    "# is logical considering only diagnosis summary is taken into account.\n",
    "# total notes: 2083180\n",
    "# total hadm: 58362\n",
    "\n",
    "# get maxm # of clean notes with valid labels (seq_num 0 or all)\n",
    "\n",
    "# Summary extracted:\n",
    "# total # of notes: 44153 (out of total 59k notes)\n",
    "# total hadm: 41327\n",
    "\n",
    "\n",
    "# total notes with top 50 labels: 240775\n",
    "# summary extracted notes with top 50 labels: 41719\n",
    "# summary extracted notes with top 50 labels with seq_num 0: 21263"
   ]
  }
 ],
 "metadata": {
  "kernelspec": {
   "display_name": "Python 2",
   "language": "python",
   "name": "python2"
  },
  "language_info": {
   "codemirror_mode": {
    "name": "ipython",
    "version": 2
   },
   "file_extension": ".py",
   "mimetype": "text/x-python",
   "name": "python",
   "nbconvert_exporter": "python",
   "pygments_lexer": "ipython2",
   "version": "2.7.11"
  }
 },
 "nbformat": 4,
 "nbformat_minor": 2
}
