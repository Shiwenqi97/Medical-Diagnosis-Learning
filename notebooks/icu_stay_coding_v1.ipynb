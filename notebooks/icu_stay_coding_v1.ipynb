{
 "cells": [
  {
   "cell_type": "code",
   "execution_count": 135,
   "metadata": {
    "ExecuteTime": {
     "end_time": "2017-11-16T04:10:42.106902Z",
     "start_time": "2017-11-16T04:10:42.096815Z"
    },
    "collapsed": true
   },
   "outputs": [],
   "source": [
    "import os\n",
    "import pickle\n",
    "import csv\n",
    "from datetime import datetime\n",
    "import numpy as np\n",
    "import torch\n",
    "from torch.utils.data import Dataset\n",
    "import torch.nn as nn\n",
    "from torch.autograd import Variable\n",
    "import torch.nn.functional as F\n",
    "import re\n",
    "\n",
    "base_path = '/media/disk3/disk3'\n",
    "use_cuda = False#torch.cuda.is_available()"
   ]
  },
  {
   "cell_type": "code",
   "execution_count": 42,
   "metadata": {
    "ExecuteTime": {
     "end_time": "2017-11-16T02:35:19.159206Z",
     "start_time": "2017-11-16T02:34:33.123773Z"
    },
    "collapsed": true
   },
   "outputs": [],
   "source": [
    "def read_data_dump(data_path):\n",
    "    with open(data_path, 'r') as f:\n",
    "        data = pickle.load(f)\n",
    "    return data\n",
    "data = read_data_dump(os.path.join(base_path, 'notes_dump.pkl'))"
   ]
  },
  {
   "cell_type": "code",
   "execution_count": 49,
   "metadata": {
    "ExecuteTime": {
     "end_time": "2017-11-16T02:50:37.103928Z",
     "start_time": "2017-11-16T02:46:06.929739Z"
    },
    "scrolled": false
   },
   "outputs": [
    {
     "name": "stdout",
     "output_type": "stream",
     "text": [
      "indices read\n",
      "1.54294395447\n",
      "vecs read\n",
      "268.498354912\n"
     ]
    }
   ],
   "source": [
    "from sklearn import preprocessing\n",
    "import time\n",
    "def read_embeddings(vecidx_path, vec_path):\n",
    "    words = []\n",
    "    t=time.time()\n",
    "    with open(vecidx_path, 'r') as f:\n",
    "        tsvreader = csv.reader(f, delimiter='\\t')\n",
    "        for i,row in enumerate(tsvreader):\n",
    "            words.append(row[0])\n",
    "    \n",
    "    print \"indices read\"\n",
    "    print time.time()-t\n",
    "    t=time.time()\n",
    "    \n",
    "    vecs = np.ndarray((len(words), 400))\n",
    "    with open(vec_path, 'r') as f:\n",
    "        tsvreader = csv.reader(f, delimiter='\\t')\n",
    "        for i,row in enumerate(tsvreader):\n",
    "            vecs[i,:] = row[:400]\n",
    "            \n",
    "    print \"vecs read\"\n",
    "    print time.time()-t\n",
    "    t=time.time()\n",
    "    vecs = preprocessing.normalize(vecs)\n",
    "    print \"normalized\"\n",
    "    print time.time()-t\n",
    "    t=time.time()\n",
    "    \n",
    "    word2vec = {_:vecs[i,:] for i,_ in enumerate(words)}\n",
    "    print \"dict made\"\n",
    "    print time.time()-t\n",
    "    t=time.time()\n",
    "\n",
    "    return word2vec\n",
    "\n",
    "pretrained = read_embeddings(os.path.join(base_path, 'ri-3gram-400-tsv/vocab.tsv'), \n",
    "                                         os.path.join(base_path, 'ri-3gram-400-tsv/vectors.tsv'))"
   ]
  },
  {
   "cell_type": "code",
   "execution_count": 10,
   "metadata": {
    "ExecuteTime": {
     "end_time": "2017-11-16T01:49:25.826777Z",
     "start_time": "2017-11-16T01:49:25.793579Z"
    },
    "collapsed": true
   },
   "outputs": [],
   "source": [
    "def get_labels(ccs_path):\n",
    "    with open(ccs_path, 'rb') as csvf:\n",
    "        ccs_mapping = {}\n",
    "        reader = csv.reader(csvf, delimiter=',')\n",
    "        _ = next(reader)\n",
    "        for i, row in enumerate(reader):\n",
    "            ccs_mapping[row[0]] = row[1]\n",
    "    return ccs_mapping\n",
    "ccs_maping = get_labels(os.path.join(base_path, 'icd9_ccs.csv'))\n",
    "ccs2idx = {code: i for i, code in enumerate(list(set([ccs_maping[k] for k in ccs_maping.keys()])))}\n",
    "icd2idx = {icd: ccs2idx[ccs_maping[icd]] for icd in ccs_maping.keys()}"
   ]
  },
  {
   "cell_type": "code",
   "execution_count": 23,
   "metadata": {
    "ExecuteTime": {
     "end_time": "2017-11-16T02:00:15.092049Z",
     "start_time": "2017-11-16T02:00:14.778836Z"
    },
    "collapsed": true
   },
   "outputs": [],
   "source": [
    "rawdata = []\n",
    "for key in data:\n",
    "    if 'notes' in data[key]:\n",
    "        rawdata.append(data[key])"
   ]
  },
  {
   "cell_type": "code",
   "execution_count": 141,
   "metadata": {
    "ExecuteTime": {
     "end_time": "2017-11-16T04:13:55.090899Z",
     "start_time": "2017-11-16T04:13:54.894400Z"
    },
    "collapsed": true
   },
   "outputs": [],
   "source": [
    "import random\n",
    "random.shuffle(rawdata)\n",
    "margin = int(len(rawdata)*0.8)\n",
    "testdata = rawdata[:margin]\n",
    "valdata = rawdata[margin:]"
   ]
  },
  {
   "cell_type": "code",
   "execution_count": 142,
   "metadata": {
    "ExecuteTime": {
     "end_time": "2017-11-16T04:14:26.933239Z",
     "start_time": "2017-11-16T04:14:26.892001Z"
    },
    "collapsed": true
   },
   "outputs": [],
   "source": [
    "batch_size = 16\n",
    "num_workers = 6\n",
    "hidden_dim = 100\n",
    "\n",
    "def clean_str_no_stopwords(s):\n",
    "    s = re.sub('\\[\\*\\*.*\\*\\*\\]|\\\\n|\\s+', ' ', s).replace('  ', ' ').lower().split() \n",
    "    return list(set(s))\n",
    "    #return [token for token in s if token not in stop_words.ENGLISH_STOP_WORDS]\n",
    "\n",
    "class Dataloader(Dataset):\n",
    "    def __init__(self, data):\n",
    "        super(Dataloader, self).__init__()\n",
    "        self.data = data\n",
    "    def __getitem__(self, index):\n",
    "        return self.data[index]\n",
    "    def __len__(self):\n",
    "        return len(self.data)\n",
    "    \n",
    "def padding_collation(batch):\n",
    "    batch_x, batch_y = [], []\n",
    "    max_seq_len = np.max([len(key['notes']) for key in batch])\n",
    "    \n",
    "    for key in range(len(batch)):\n",
    "        x = sorted(batch[key]['notes'], key=lambda x:datetime.strptime(x['date'], '%Y-%m-%d'))\n",
    "        x = [clean_str_no_stopwords(note['note']) for note in batch[key]['notes']]\n",
    "        x = [note for note in x if note != []]\n",
    "        x = [['pad'] for i in range(max_seq_len-len(x))] + x\n",
    "        y =  batch[key]['labels']['icd'][0]\n",
    "        batch_x.append(x)\n",
    "        batch_y.append(y)\n",
    "    return (batch_x, batch_y)\n",
    "train_loader = torch.utils.data.DataLoader(dataset=Dataloader(testdata), batch_size=batch_size, shuffle=True, \n",
    "                                                           num_workers=num_workers, collate_fn=padding_collation)\n",
    "val_loader = torch.utils.data.DataLoader(dataset=Dataloader(valdata), batch_size=batch_size, shuffle=False, \n",
    "                                                           num_workers=num_workers, collate_fn=padding_collation)"
   ]
  },
  {
   "cell_type": "code",
   "execution_count": 143,
   "metadata": {
    "ExecuteTime": {
     "end_time": "2017-11-16T04:14:28.040854Z",
     "start_time": "2017-11-16T04:14:28.018270Z"
    },
    "collapsed": true
   },
   "outputs": [],
   "source": [
    "class LSTMModel(nn.Module):\n",
    "    def __init__(self, embed_dim, hidden_dim, num_labels, batch_size):\n",
    "        super(LSTMModel, self).__init__()\n",
    "        self.batch_size = batch_size\n",
    "        self.hidden_dim = hidden_dim\n",
    "        self.lstm = nn.LSTM(embed_dim, hidden_dim)\n",
    "        self.lin = nn.Linear(hidden_dim, num_labels)\n",
    "    def init_hidden(self):\n",
    "        hidden1 = Variable(torch.zeros(1, self.batch_size, self.hidden_dim))\n",
    "        hidden2 = Variable(torch.zeros(1, self.batch_size, self.hidden_dim))\n",
    "        if use_cuda:\n",
    "            return (hidden1.cuda(), hidden2.cuda())\n",
    "        else:\n",
    "            return (hidden1, hidden2)\n",
    "    def forward(self, x, hidden):\n",
    "        # seqlen x batch x emb_dim\n",
    "        x = torch.transpose(x, 1, 0)\n",
    "        x, _hidden  = self.lstm(x, hidden)\n",
    "        x = x[-1, :, :].view(self.batch_size, -1)\n",
    "        x = self.lin(x)\n",
    "        return x"
   ]
  },
  {
   "cell_type": "code",
   "execution_count": 144,
   "metadata": {
    "ExecuteTime": {
     "end_time": "2017-11-16T04:14:28.744403Z",
     "start_time": "2017-11-16T04:14:28.730872Z"
    },
    "collapsed": true
   },
   "outputs": [],
   "source": [
    "hidden_dim = 100\n",
    "model = LSTMModel(400, hidden_dim, 284, batch_size)\n",
    "opti = torch.optim.Adam(model.parameters(), lr=1e-3, betas=(0.5, 0.999))\n",
    "crit = nn.CrossEntropyLoss()\n",
    "\n",
    "if use_cuda:\n",
    "    model.cuda()\n",
    "    crit.cuda()"
   ]
  },
  {
   "cell_type": "code",
   "execution_count": 147,
   "metadata": {
    "ExecuteTime": {
     "end_time": "2017-11-16T04:15:42.014164Z",
     "start_time": "2017-11-16T04:15:41.975430Z"
    },
    "collapsed": true
   },
   "outputs": [],
   "source": [
    "def evaluate(model, loader, batch_size):\n",
    "    correct = 0\n",
    "    total = 0\n",
    "\n",
    "    for i in loader:\n",
    "        if len(i[0]) != batch_size:\n",
    "            continue\n",
    "        seq_len = len(i[0][0])\n",
    "        batch_x = np.ndarray((batch_size, seq_len, 400))\n",
    "        for bs, adm in enumerate(i[0]):\n",
    "            for idx, note in enumerate(adm):\n",
    "                note_vec = []\n",
    "                for token in note:\n",
    "                    note_vec.append(pretrained.get(re.sub(r'[^\\w\\s]','', token), pretrained['unknown']))\n",
    "                if len(note_vec) == 0:\n",
    "                    print adm\n",
    "                    break\n",
    "                batch_x[bs, idx, :] = np.mean(note_vec)  \n",
    "                \n",
    "        batch_x = torch.from_numpy(batch_x).float()\n",
    "        batch_y = torch.from_numpy(np.array([int(icd2idx[_]) for _ in i[1]])).long().view(batch_size)\n",
    "        if use_cuda:\n",
    "            batch_x, batch_y = batch_x.cuda(), batch_y.cuda()\n",
    "            \n",
    "        x = Variable(batch_x)\n",
    "        hidden = model.init_hidden()\n",
    "        x = model(x, hidden)\n",
    "        _, predicted = torch.max(x.data, 1)\n",
    "        total += batch_y.size(0)\n",
    "        correct += (predicted == batch_y).sum()\n",
    "        break\n",
    "    return correct / float(total)"
   ]
  },
  {
   "cell_type": "code",
   "execution_count": 148,
   "metadata": {
    "ExecuteTime": {
     "end_time": "2017-11-16T04:18:22.620050Z",
     "start_time": "2017-11-16T04:15:42.470441Z"
    }
   },
   "outputs": [
    {
     "name": "stdout",
     "output_type": "stream",
     "text": [
      "5.65350484848\n",
      "Step: 0, Loss: 5.6535, Validation Acc: 0.00\n",
      "5.61115789413\n",
      "Step: 1, Loss: 5.6112, Validation Acc: 0.00\n",
      "5.62152099609\n",
      "Step: 2, Loss: 5.6215, Validation Acc: 0.00\n",
      "5.6113653183\n",
      "Step: 3, Loss: 5.6114, Validation Acc: 0.06\n",
      "5.62259960175\n",
      "Step: 4, Loss: 5.6226, Validation Acc: 0.06\n",
      "5.59583616257\n",
      "Step: 5, Loss: 5.5958, Validation Acc: 0.06\n",
      "5.57396554947\n",
      "Step: 6, Loss: 5.5740, Validation Acc: 0.06\n",
      "5.58610916138\n",
      "Step: 7, Loss: 5.5861, Validation Acc: 0.06\n",
      "5.56694602966\n",
      "Step: 8, Loss: 5.5669, Validation Acc: 0.06\n",
      "5.60588550568\n",
      "Step: 9, Loss: 5.6059, Validation Acc: 0.06\n",
      "5.56164360046\n",
      "Step: 10, Loss: 5.5616, Validation Acc: 0.06\n",
      "5.52236461639\n",
      "Step: 11, Loss: 5.5224, Validation Acc: 0.06\n",
      "5.46405076981\n",
      "Step: 12, Loss: 5.4641, Validation Acc: 0.06\n",
      "5.28133964539\n",
      "Step: 13, Loss: 5.2813, Validation Acc: 0.06\n",
      "4.57321357727\n",
      "Step: 14, Loss: 4.5732, Validation Acc: 0.06\n",
      "4.90675497055\n",
      "Step: 15, Loss: 4.9068, Validation Acc: 0.06\n",
      "4.6825838089\n",
      "Step: 16, Loss: 4.6826, Validation Acc: 0.06\n",
      "5.02983522415\n",
      "Step: 17, Loss: 5.0298, Validation Acc: 0.06\n",
      "4.64675617218\n",
      "Step: 18, Loss: 4.6468, Validation Acc: 0.06\n",
      "3.70451784134\n",
      "Step: 19, Loss: 3.7045, Validation Acc: 0.06\n"
     ]
    }
   ],
   "source": [
    "step = 0\n",
    "step_log = []\n",
    "loss_log = []\n",
    "val_acc_log = []\n",
    "torch.manual_seed(1)\n",
    "for i in train_loader:\n",
    "    if len(i[0]) != batch_size:\n",
    "        continue\n",
    "    model.zero_grad()\n",
    "    \n",
    "    seq_len = len(i[0][0])\n",
    "    batch_x = np.ndarray((batch_size, seq_len, 400))\n",
    "    for bs, adm in enumerate(i[0]):\n",
    "        for idx, note in enumerate(adm):\n",
    "            note_vec = []\n",
    "            for token in note:\n",
    "                note_vec.append(pretrained.get(re.sub(r'[^\\w\\s]','', token), pretrained['unknown']))\n",
    "            if len(note_vec) == 0:\n",
    "                print adm\n",
    "                break\n",
    "            batch_x[bs, idx, :] = np.mean(note_vec)  \n",
    "            # batch_x[bs, idx, :] = np.mean([pretrained.get(re.sub(r'[^\\w\\s]','', token), pretrained['unknown']) for token in note], axis=0)\n",
    "    batch_x = torch.from_numpy(batch_x).float()\n",
    "    batch_y = torch.from_numpy(np.array([int(icd2idx[_]) for _ in i[1]])).long().view(batch_size)\n",
    "    if use_cuda:\n",
    "        batch_x, batch_y = batch_x.cuda(), batch_y.cuda()\n",
    "\n",
    "    x = Variable(batch_x)\n",
    "    hidden = model.init_hidden()\n",
    "    x = model(x, hidden)\n",
    "\n",
    "    loss = crit(x, Variable(batch_y))\n",
    "    loss.backward()\n",
    "    opti.step()\n",
    "    print loss.data[0]\n",
    "    if step % 1 == 0:\n",
    "        model.eval()\n",
    "        val_acc = evaluate(model, val_loader, batch_size)\n",
    "        print(\"Step: %d, Loss: %.4f, Validation Acc: %.2f\"%(step, loss.data[0], val_acc))\n",
    "        step_log.append(step)\n",
    "        loss_log.append(loss.data[0])\n",
    "        val_acc_log.append(val_acc)\n",
    "        model.train()\n",
    "    step += 1\n",
    "    if step == 20:\n",
    "        break\n",
    "\n",
    "f=open('results.pkl', 'w')\n",
    "pickle.dump({'step': step_log, 'loss': loss_log, 'val': val_acc_log}, f)\n",
    "f.close() "
   ]
  },
  {
   "cell_type": "code",
   "execution_count": null,
   "metadata": {
    "collapsed": true
   },
   "outputs": [],
   "source": []
  }
 ],
 "metadata": {
  "kernelspec": {
   "display_name": "Python 2",
   "language": "python",
   "name": "python2"
  },
  "language_info": {
   "codemirror_mode": {
    "name": "ipython",
    "version": 2
   },
   "file_extension": ".py",
   "mimetype": "text/x-python",
   "name": "python",
   "nbconvert_exporter": "python",
   "pygments_lexer": "ipython2",
   "version": "2.7.13"
  }
 },
 "nbformat": 4,
 "nbformat_minor": 2
}
