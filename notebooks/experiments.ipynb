{
 "cells": [
  {
   "cell_type": "code",
   "execution_count": 1,
   "metadata": {
    "ExecuteTime": {
     "end_time": "2017-11-02T20:37:25.459455Z",
     "start_time": "2017-11-02T20:37:25.416251Z"
    },
    "collapsed": true
   },
   "outputs": [],
   "source": [
    "%load_ext autoreload\n",
    "%autoreload 2"
   ]
  },
  {
   "cell_type": "code",
   "execution_count": 3,
   "metadata": {
    "ExecuteTime": {
     "end_time": "2017-11-02T20:39:53.291515Z",
     "start_time": "2017-11-02T20:38:42.014472Z"
    }
   },
   "outputs": [
    {
     "name": "stdout",
     "output_type": "stream",
     "text": [
      "# of data samples:2101854\n",
      "('FD of labels:', Counter({1: 1072031, 0: 1029823}))\n"
     ]
    }
   ],
   "source": [
    "import sys\n",
    "from collections import Counter\n",
    "sys.path.append('/home/pau/Medical-Diagnosis-Learning/src')\n",
    "from data_util import *\n",
    "\n",
    "easy_label_map = {\"4019\":0, \"V290\":1}\n",
    "training_set = load_data_csv('/media/disk3/disk3/notes_sample.csv', easy_label_map)\n",
    "print(\"FD of labels:\", Counter([_['label'] for _ in training_set]))\n",
    "\n",
    "PADDING = \"<PAD>\"\n",
    "UNKNOWN = \"<UNK>\"\n",
    "max_seq_length = 20\n",
    "\n",
    "word_to_ix, vocab_size, word_counter = build_dictionary([training_set], PADDING, UNKNOWN)\n",
    "sentences_to_padded_index_sequences(word_to_ix, [training_set], max_seq_length, PADDING, UNKNOWN)\n"
   ]
  },
  {
   "cell_type": "code",
   "execution_count": 4,
   "metadata": {
    "ExecuteTime": {
     "end_time": "2017-11-02T20:40:33.718266Z",
     "start_time": "2017-11-02T20:40:33.254017Z"
    },
    "collapsed": true
   },
   "outputs": [],
   "source": [
    "from models import *\n",
    "batch_size = 256\n",
    "num_workers = 2\n",
    "embed_dim = 50\n",
    "hidden_dim = 100\n",
    "\n",
    "val_set = training_set[int(0.8*len(training_set)):]\n",
    "training_set = training_set[:int(0.8*len(training_set))]\n",
    "\n",
    "train_loader = torch.utils.data.DataLoader(dataset= TextData(training_set), batch_size=batch_size, shuffle=True, \n",
    "                                                           num_workers=num_workers)\n",
    "val_loader = torch.utils.data.DataLoader(dataset= TextData(val_set), batch_size=batch_size, shuffle=True, \n",
    "                                                           num_workers=num_workers)\n",
    "\n",
    "\n",
    "model = LSTMModel(vocab_size, embed_dim, hidden_dim, easy_label_map, batch_size)\n",
    "opti = torch.optim.SGD(model.parameters(), lr=1e-2, momentum=0.9)\n",
    "crit = nn.CrossEntropyLoss()"
   ]
  },
  {
   "cell_type": "code",
   "execution_count": null,
   "metadata": {
    "ExecuteTime": {
     "end_time": "2017-11-02T21:05:37.255337Z",
     "start_time": "2017-11-02T20:48:47.682970Z"
    }
   },
   "outputs": [],
   "source": [
    "from eval import *\n",
    "step = 0\n",
    "step_log = []\n",
    "loss_log = []\n",
    "val_acc_log = []\n",
    "for batch in train_loader:\n",
    "    if batch[0].size(0) != batch_size:\n",
    "        continue\n",
    "    model.zero_grad()\n",
    "    x = Variable(batch[0])\n",
    "    hidden = model.init_hidden()\n",
    "    x = model(x, hidden)\n",
    "    loss = crit(x, Variable(batch[1].view(-1)))\n",
    "    loss.backward()\n",
    "    opti.step()\n",
    "    \n",
    "    if step % 100 == 0:\n",
    "        val_acc = evaluate(model, val_loader, batch_size)\n",
    "        print(\"Step: %d, Loss: %.4f, Validation Acc: %.2f\"%(step, loss.data[0], val_acc))\n",
    "        step_log.append(step)\n",
    "        loss_log.append(loss.data[0])\n",
    "        val_acc_log.append(val_acc)\n",
    "    step += 1\n",
    "#     if step == 20:\n",
    "#         break\n"
   ]
  },
  {
   "cell_type": "code",
   "execution_count": 22,
   "metadata": {
    "ExecuteTime": {
     "end_time": "2017-11-02T21:07:34.759573Z",
     "start_time": "2017-11-02T21:07:34.274816Z"
    }
   },
   "outputs": [
    {
     "data": {
      "text/plain": [
       "[<matplotlib.lines.Line2D at 0x7f2c0fd5d190>]"
      ]
     },
     "execution_count": 22,
     "metadata": {},
     "output_type": "execute_result"
    },
    {
     "data": {
      "image/png": "[encoded data removed]",
      "text/plain": [
       "<matplotlib.figure.Figure at 0x7f2c4c077e90>"
      ]
     },
     "metadata": {},
     "output_type": "display_data"
    }
   ],
   "source": [
    "import matplotlib.pyplot as plt\n",
    "%matplotlib inline\n",
    "\n",
    "plt.plot(step_log, loss_log)"
   ]
  }
 ],
 "metadata": {
  "kernelspec": {
   "display_name": "Python 3",
   "language": "python3",
   "name": "python3"
  },
  "language_info": {
   "codemirror_mode": {
    "name": "ipython",
    "version": 2
   },
   "file_extension": ".py",
   "mimetype": "text/x-python",
   "name": "python",
   "nbconvert_exporter": "python",
   "pygments_lexer": "ipython2",
   "version": "2.7.6"
  }
 },
 "nbformat": 4,
 "nbformat_minor": 2
}
