{
 "cells": [
  {
   "cell_type": "code",
   "execution_count": null,
   "metadata": {
    "collapsed": true
   },
   "outputs": [],
   "source": [
    "# First POC to check if notes data is learnable in vanilla mode - SUCCESS"
   ]
  },
  {
   "cell_type": "code",
   "execution_count": 3,
   "metadata": {
    "ExecuteTime": {
     "end_time": "2017-11-16T20:16:12.453466Z",
     "start_time": "2017-11-16T20:16:12.432067Z"
    },
    "collapsed": true
   },
   "outputs": [],
   "source": [
    "%load_ext autoreload\n",
    "%autoreload 2"
   ]
  },
  {
   "cell_type": "code",
   "execution_count": 32,
   "metadata": {
    "collapsed": true
   },
   "outputs": [],
   "source": [
    "import torch\n",
    "use_cuda = torch.cuda.is_available()\n",
    "if use_cuda:\n",
    "    torch.cuda.set_device(1)\n"
   ]
  },
  {
   "cell_type": "code",
   "execution_count": 37,
   "metadata": {
    "ExecuteTime": {
     "end_time": "2017-11-16T20:18:04.602173Z",
     "start_time": "2017-11-16T20:16:50.749762Z"
    }
   },
   "outputs": [
    {
     "name": "stdout",
     "output_type": "stream",
     "text": [
      "# of data samples:1088157\n",
      "('FD of labels:', Counter({1: 382354, 4: 355998, 2: 273458, 3: 39712, 0: 36635}))\n"
     ]
    }
   ],
   "source": [
    "import sys\n",
    "from collections import Counter\n",
    "#sys.path.append('/home/pau/Medical-Diagnosis-Learning/src')\n",
    "sys.path.append('/home/ag4508/Medical-Diagnosis-Learning/src')\n",
    "from data_util import *\n",
    "from util_icu_train import get_labels\n",
    "\n",
    "# easy_label_map = {\"4019\":0, \"V290\":1}\n",
    "# training_set = load_data_csv('../notes_sample.csv', easy_label_map)\n",
    "\n",
    "easy_label_map = get_labels('/misc/vlgscratch2/LecunGroup/anant/nlp/labels.txt')\n",
    "training_set = load_data_csv('/misc/vlgscratch2/LecunGroup/anant/nlp/notes_sample_5class.csv', easy_label_map)\n",
    "print(\"FD of labels:\", Counter([_['label'] for _ in training_set]))\n",
    "\n",
    "PADDING = \"<PAD>\"\n",
    "UNKNOWN = \"<UNK>\"\n",
    "max_seq_length = 20\n",
    "\n",
    "# word_to_ix, vocab_size, word_counter = build_dictionary([training_set], PADDING, UNKNOWN)\n",
    "# sentences_to_padded_index_sequences(word_to_ix, [training_set], max_seq_length, PADDING, UNKNOWN)\n"
   ]
  },
  {
   "cell_type": "code",
   "execution_count": 42,
   "metadata": {},
   "outputs": [
    {
     "name": "stdout",
     "output_type": "stream",
     "text": [
      "751\n",
      "0\n"
     ]
    }
   ],
   "source": [
    "import numpy as np\n",
    "print np.max([len(_['text'].split()) for _ in training_set])\n",
    "print np.min([len(_['text'].split()) for _ in training_set])"
   ]
  },
  {
   "cell_type": "code",
   "execution_count": 31,
   "metadata": {
    "ExecuteTime": {
     "end_time": "2017-11-16T20:18:17.178559Z",
     "start_time": "2017-11-16T20:18:16.736973Z"
    },
    "collapsed": true
   },
   "outputs": [],
   "source": [
    "from models import *\n",
    "batch_size = 256\n",
    "num_workers = 2\n",
    "embed_dim = 50\n",
    "hidden_dim = 100\n",
    "\n",
    "val_set = training_set[int(0.8*len(training_set)):]\n",
    "training_set = training_set[:int(0.8*len(training_set))]\n",
    "\n",
    "train_loader = torch.utils.data.DataLoader(dataset= TextData(training_set), batch_size=batch_size, shuffle=True, \n",
    "                                                           num_workers=num_workers)\n",
    "val_loader = torch.utils.data.DataLoader(dataset= TextData(val_set), batch_size=batch_size, shuffle=True, \n",
    "                                                           num_workers=num_workers)"
   ]
  },
  {
   "cell_type": "code",
   "execution_count": 33,
   "metadata": {
    "collapsed": true
   },
   "outputs": [],
   "source": [
    "model = LSTMModel(vocab_size, embed_dim, hidden_dim, easy_label_map, batch_size, use_cuda)\n",
    "opti = torch.optim.SGD(model.parameters(), lr=1e-2, momentum=0.9)\n",
    "crit = nn.CrossEntropyLoss()\n",
    "\n",
    "if use_cuda:\n",
    "    model.cuda()\n",
    "    crit.cuda()\n",
    "\n",
    "from eval import *    "
   ]
  },
  {
   "cell_type": "code",
   "execution_count": 35,
   "metadata": {
    "ExecuteTime": {
     "end_time": "2017-11-16T20:20:02.410997Z",
     "start_time": "2017-11-16T20:20:01.434860Z"
    }
   },
   "outputs": [
    {
     "name": "stdout",
     "output_type": "stream",
     "text": [
      "Step: 0, Loss: 1.6612, Validation Acc: 0.05, Val loss: 1.66\n",
      "Step: 100, Loss: 1.3968, Validation Acc: 0.34, Val loss: 1.31\n",
      "Step: 200, Loss: 1.3927, Validation Acc: 0.35, Val loss: 1.33\n",
      "Step: 300, Loss: 1.3849, Validation Acc: 0.35, Val loss: 1.31\n",
      "Step: 400, Loss: 1.2929, Validation Acc: 0.35, Val loss: 1.34\n",
      "Step: 500, Loss: 1.3587, Validation Acc: 0.35, Val loss: 1.35\n",
      "Step: 600, Loss: 1.3714, Validation Acc: 0.35, Val loss: 1.34\n",
      "Step: 700, Loss: 1.3937, Validation Acc: 0.35, Val loss: 1.32\n",
      "Step: 800, Loss: 1.3148, Validation Acc: 0.35, Val loss: 1.35\n",
      "Step: 900, Loss: 1.3953, Validation Acc: 0.35, Val loss: 1.30\n",
      "Step: 1000, Loss: 1.3489, Validation Acc: 0.35, Val loss: 1.23\n",
      "Step: 1100, Loss: 1.3514, Validation Acc: 0.35, Val loss: 1.36\n",
      "Step: 1200, Loss: 1.2984, Validation Acc: 0.35, Val loss: 1.37\n",
      "Step: 1300, Loss: 1.2782, Validation Acc: 0.35, Val loss: 1.33\n",
      "Step: 1400, Loss: 1.3553, Validation Acc: 0.35, Val loss: 1.30\n",
      "Step: 1500, Loss: 1.3869, Validation Acc: 0.35, Val loss: 1.27\n",
      "Step: 1600, Loss: 1.3155, Validation Acc: 0.35, Val loss: 1.31\n",
      "Step: 1700, Loss: 1.3551, Validation Acc: 0.35, Val loss: 1.36\n",
      "Step: 1800, Loss: 1.3565, Validation Acc: 0.35, Val loss: 1.41\n",
      "Step: 1900, Loss: 1.3142, Validation Acc: 0.35, Val loss: 1.27\n",
      "Step: 2000, Loss: 1.2502, Validation Acc: 0.35, Val loss: 1.30\n",
      "Step: 2100, Loss: 1.3461, Validation Acc: 0.35, Val loss: 1.27\n",
      "Step: 2200, Loss: 1.3163, Validation Acc: 0.35, Val loss: 1.30\n",
      "Step: 2300, Loss: 1.3295, Validation Acc: 0.35, Val loss: 1.41\n",
      "Step: 2400, Loss: 1.2385, Validation Acc: 0.35, Val loss: 1.41\n",
      "Step: 2500, Loss: 1.3020, Validation Acc: 0.35, Val loss: 1.33\n",
      "Step: 2600, Loss: 1.2675, Validation Acc: 0.35, Val loss: 1.27\n",
      "Step: 2700, Loss: 1.2566, Validation Acc: 0.35, Val loss: 1.36\n",
      "Step: 2800, Loss: 1.2813, Validation Acc: 0.35, Val loss: 1.40\n",
      "Step: 2900, Loss: 1.3227, Validation Acc: 0.35, Val loss: 1.37\n",
      "Step: 3000, Loss: 1.2402, Validation Acc: 0.35, Val loss: 1.36\n",
      "Step: 3100, Loss: 1.4017, Validation Acc: 0.35, Val loss: 1.38\n",
      "Step: 3200, Loss: 1.2965, Validation Acc: 0.35, Val loss: 1.38\n",
      "Step: 3300, Loss: 1.3327, Validation Acc: 0.35, Val loss: 1.31\n",
      "Step: 3400, Loss: 1.2812, Validation Acc: 0.35, Val loss: 1.29\n",
      "Step: 3500, Loss: 1.3795, Validation Acc: 0.35, Val loss: 1.36\n",
      "Step: 3600, Loss: 1.3208, Validation Acc: 0.35, Val loss: 1.49\n",
      "Step: 3700, Loss: 1.3268, Validation Acc: 0.35, Val loss: 1.29\n",
      "Step: 3800, Loss: 1.3064, Validation Acc: 0.35, Val loss: 1.37\n",
      "Step: 3900, Loss: 1.2752, Validation Acc: 0.35, Val loss: 1.24\n",
      "Step: 4000, Loss: 1.2831, Validation Acc: 0.35, Val loss: 1.38\n",
      "Step: 4100, Loss: 1.3057, Validation Acc: 0.35, Val loss: 1.29\n",
      "Step: 4200, Loss: 1.3425, Validation Acc: 0.35, Val loss: 1.26\n",
      "Step: 4300, Loss: 1.3511, Validation Acc: 0.35, Val loss: 1.26\n",
      "Step: 4400, Loss: 1.2949, Validation Acc: 0.35, Val loss: 1.30\n",
      "Step: 4500, Loss: 1.3113, Validation Acc: 0.35, Val loss: 1.32\n",
      "Step: 4600, Loss: 1.3389, Validation Acc: 0.35, Val loss: 1.33\n",
      "Step: 4700, Loss: 1.2650, Validation Acc: 0.35, Val loss: 1.38\n",
      "Step: 4800, Loss: 1.2610, Validation Acc: 0.35, Val loss: 1.31\n",
      "Step: 4900, Loss: 1.2608, Validation Acc: 0.35, Val loss: 1.35\n",
      "Step: 5000, Loss: 1.3245, Validation Acc: 0.35, Val loss: 1.33\n",
      "Step: 5100, Loss: 1.2676, Validation Acc: 0.35, Val loss: 1.27\n",
      "Step: 5200, Loss: 1.3289, Validation Acc: 0.35, Val loss: 1.38\n",
      "Step: 5300, Loss: 1.3512, Validation Acc: 0.35, Val loss: 1.27\n",
      "Step: 5400, Loss: 1.2922, Validation Acc: 0.35, Val loss: 1.32\n",
      "Step: 5500, Loss: 1.3534, Validation Acc: 0.35, Val loss: 1.33\n",
      "Step: 5600, Loss: 1.2517, Validation Acc: 0.35, Val loss: 1.29\n",
      "Step: 5700, Loss: 1.2594, Validation Acc: 0.35, Val loss: 1.25\n",
      "Step: 5800, Loss: 1.3785, Validation Acc: 0.35, Val loss: 1.30\n",
      "Step: 5900, Loss: 1.3009, Validation Acc: 0.35, Val loss: 1.42\n",
      "Step: 6000, Loss: 1.2698, Validation Acc: 0.35, Val loss: 1.23\n",
      "Step: 6100, Loss: 1.4496, Validation Acc: 0.35, Val loss: 1.27\n",
      "Step: 6200, Loss: 1.3245, Validation Acc: 0.35, Val loss: 1.33\n",
      "Step: 6300, Loss: 1.3906, Validation Acc: 0.35, Val loss: 1.32\n",
      "Step: 6400, Loss: 1.2954, Validation Acc: 0.35, Val loss: 1.32\n",
      "Step: 6500, Loss: 1.4347, Validation Acc: 0.35, Val loss: 1.42\n",
      "Step: 6600, Loss: 1.3033, Validation Acc: 0.35, Val loss: 1.38\n",
      "Step: 6700, Loss: 1.3746, Validation Acc: 0.35, Val loss: 1.28\n"
     ]
    }
   ],
   "source": [
    "\n",
    "opti = torch.optim.SGD(model.parameters(), lr=1e-3, momentum=0.9)\n",
    "step = 0\n",
    "step_log = []\n",
    "loss_log = []\n",
    "val_acc_log = []\n",
    "val_loss_log = []\n",
    "\n",
    "for batch in train_loader:\n",
    "    if batch[0].size(0) != batch_size:\n",
    "        continue\n",
    "    model.zero_grad()\n",
    "    x = Variable(batch[0])\n",
    "    y = Variable(batch[1].view(-1))\n",
    "    if use_cuda:\n",
    "        x, y = x.cuda(), y.cuda()\n",
    "\n",
    "    hidden = model.init_hidden()\n",
    "    x = model(x, hidden)\n",
    "    loss = crit(x, y)\n",
    "    loss.backward()\n",
    "    opti.step()\n",
    "\n",
    "    if step % 100 == 0:\n",
    "        val_acc, val_loss = evaluate(model, val_loader, batch_size, crit, use_cuda)\n",
    "        print(\"Step: %d, Loss: %.4f, Validation Acc: %.2f, Val loss: %.2f\"%(step, loss.data[0], val_acc, val_loss))\n",
    "        step_log.append(step)\n",
    "        loss_log.append(loss.data[0])\n",
    "        val_acc_log.append(val_acc)\n",
    "        val_loss_log.append(val_loss)\n",
    "    step += 1\n",
    "#     if step == 20:\n",
    "#         break\n"
   ]
  },
  {
   "cell_type": "code",
   "execution_count": 13,
   "metadata": {
    "ExecuteTime": {
     "end_time": "2017-11-02T21:07:34.759573Z",
     "start_time": "2017-11-02T21:07:34.274816Z"
    }
   },
   "outputs": [
    {
     "name": "stderr",
     "output_type": "stream",
     "text": [
      "/misc/vlgscratch2/LecunGroup/anant/anaconda3/envs/pyt/lib/python2.7/site-packages/matplotlib/font_manager.py:280: UserWarning: Matplotlib is building the font cache using fc-list. This may take a moment.\n",
      "  'Matplotlib is building the font cache using fc-list. '\n"
     ]
    },
    {
     "data": {
      "text/plain": [
       "[<matplotlib.lines.Line2D at 0x7f28e5abb410>]"
      ]
     },
     "execution_count": 13,
     "metadata": {},
     "output_type": "execute_result"
    },
    {
     "data": {
      "image/png": "[encoded data removed]",
      "text/plain": [
       "<matplotlib.figure.Figure at 0x7f2930059ad0>"
      ]
     },
     "metadata": {},
     "output_type": "display_data"
    }
   ],
   "source": [
    "import matplotlib.pyplot as plt\n",
    "%matplotlib inline\n",
    "\n",
    "plt.plot(step_log, loss_log)"
   ]
  },
  {
   "cell_type": "code",
   "execution_count": null,
   "metadata": {
    "collapsed": true
   },
   "outputs": [],
   "source": [
    "'''\n",
    "Step: 0, Loss: 0.6943, Validation Acc: 0.49, Val loss: 0.69\n",
    "Step: 100, Loss: 0.6899, Validation Acc: 0.55, Val loss: 0.69\n",
    "Step: 200, Loss: 0.6877, Validation Acc: 0.56, Val loss: 0.67\n",
    "Step: 300, Loss: 0.6876, Validation Acc: 0.56, Val loss: 0.69\n",
    "Step: 400, Loss: 0.6741, Validation Acc: 0.56, Val loss: 0.68\n",
    "Step: 500, Loss: 0.6693, Validation Acc: 0.56, Val loss: 0.69\n",
    "Step: 600, Loss: 0.6701, Validation Acc: 0.57, Val loss: 0.68\n",
    "Step: 700, Loss: 0.6757, Validation Acc: 0.58, Val loss: 0.69\n",
    "Step: 800, Loss: 0.6613, Validation Acc: 0.59, Val loss: 0.65\n",
    "Step: 900, Loss: 0.6528, Validation Acc: 0.59, Val loss: 0.69\n",
    "Step: 1000, Loss: 0.6364, Validation Acc: 0.62, Val loss: 0.68\n",
    "Step: 1100, Loss: 0.6526, Validation Acc: 0.62, Val loss: 0.65\n",
    "Step: 1200, Loss: 0.6682, Validation Acc: 0.63, Val loss: 0.64\n",
    "Step: 1300, Loss: 0.6217, Validation Acc: 0.64, Val loss: 0.64\n",
    "Step: 1400, Loss: 0.6107, Validation Acc: 0.66, Val loss: 0.63\n",
    "Step: 1500, Loss: 0.6256, Validation Acc: 0.67, Val loss: 0.56\n",
    "Step: 1600, Loss: 0.6079, Validation Acc: 0.69, Val loss: 0.61\n",
    "Step: 1700, Loss: 0.6355, Validation Acc: 0.70, Val loss: 0.58\n",
    "Step: 1800, Loss: 0.5854, Validation Acc: 0.72, Val loss: 0.54\n",
    "Step: 1900, Loss: 0.5122, Validation Acc: 0.73, Val loss: 0.58\n",
    "Step: 2000, Loss: 0.5400, Validation Acc: 0.74, Val loss: 0.50\n",
    "Step: 2100, Loss: 0.5263, Validation Acc: 0.76, Val loss: 0.53\n",
    "Step: 2200, Loss: 0.5145, Validation Acc: 0.77, Val loss: 0.43\n",
    "Step: 2300, Loss: 0.4547, Validation Acc: 0.78, Val loss: 0.49\n",
    "Step: 2400, Loss: 0.4670, Validation Acc: 0.78, Val loss: 0.44\n",
    "Step: 2500, Loss: 0.4803, Validation Acc: 0.78, Val loss: 0.37\n",
    "Step: 2600, Loss: 0.4047, Validation Acc: 0.79, Val loss: 0.56\n",
    "Step: 2700, Loss: 0.4070, Validation Acc: 0.80, Val loss: 0.43\n",
    "Step: 2800, Loss: 0.4729, Validation Acc: 0.80, Val loss: 0.45\n",
    "Step: 2900, Loss: 0.4743, Validation Acc: 0.80, Val loss: 0.40\n",
    "Step: 3000, Loss: 0.4122, Validation Acc: 0.80, Val loss: 0.42\n",
    "Step: 3100, Loss: 0.4392, Validation Acc: 0.79, Val loss: 0.43\n",
    "Step: 3200, Loss: 0.3928, Validation Acc: 0.82, Val loss: 0.39\n",
    "Step: 3300, Loss: 0.4052, Validation Acc: 0.81, Val loss: 0.43\n",
    "Step: 3400, Loss: 0.3485, Validation Acc: 0.80, Val loss: 0.48\n",
    "Step: 3500, Loss: 0.4364, Validation Acc: 0.80, Val loss: 0.38\n",
    "Step: 3600, Loss: 0.4169, Validation Acc: 0.82, Val loss: 0.39\n",
    "Step: 3700, Loss: 0.3988, Validation Acc: 0.83, Val loss: 0.39\n",
    "Step: 3800, Loss: 0.4106, Validation Acc: 0.80, Val loss: 0.44\n",
    "Step: 3900, Loss: 0.3948, Validation Acc: 0.82, Val loss: 0.41\n",
    "Step: 4000, Loss: 0.3893, Validation Acc: 0.83, Val loss: 0.39\n",
    "Step: 4100, Loss: 0.3142, Validation Acc: 0.83, Val loss: 0.37\n",
    "Step: 4200, Loss: 0.4178, Validation Acc: 0.83, Val loss: 0.34\n",
    "Step: 4300, Loss: 0.3702, Validation Acc: 0.84, Val loss: 0.39\n",
    "Step: 4400, Loss: 0.4193, Validation Acc: 0.84, Val loss: 0.35\n",
    "Step: 4500, Loss: 0.4188, Validation Acc: 0.83, Val loss: 0.44\n",
    "Step: 4600, Loss: 0.3711, Validation Acc: 0.83, Val loss: 0.34\n",
    "Step: 4700, Loss: 0.3680, Validation Acc: 0.84, Val loss: 0.41\n",
    "Step: 4800, Loss: 0.3597, Validation Acc: 0.84, Val loss: 0.42\n",
    "Step: 4900, Loss: 0.4132, Validation Acc: 0.84, Val loss: 0.37\n",
    "Step: 5000, Loss: 0.3717, Validation Acc: 0.84, Val loss: 0.34\n",
    "Step: 5100, Loss: 0.2982, Validation Acc: 0.84, Val loss: 0.43\n",
    "Step: 5200, Loss: 0.3917, Validation Acc: 0.84, Val loss: 0.37\n",
    "Step: 5300, Loss: 0.3253, Validation Acc: 0.84, Val loss: 0.36\n",
    "Step: 5400, Loss: 0.3423, Validation Acc: 0.85, Val loss: 0.34\n",
    "Step: 5500, Loss: 0.3126, Validation Acc: 0.85, Val loss: 0.33\n",
    "Step: 5600, Loss: 0.3560, Validation Acc: 0.85, Val loss: 0.39\n",
    "Step: 5700, Loss: 0.3589, Validation Acc: 0.85, Val loss: 0.32\n",
    "Step: 5800, Loss: 0.3535, Validation Acc: 0.85, Val loss: 0.31\n",
    "Step: 5900, Loss: 0.3453, Validation Acc: 0.85, Val loss: 0.29\n",
    "Step: 6000, Loss: 0.2837, Validation Acc: 0.85, Val loss: 0.32\n",
    "Step: 6100, Loss: 0.2790, Validation Acc: 0.84, Val loss: 0.37\n",
    "Step: 6200, Loss: 0.3843, Validation Acc: 0.86, Val loss: 0.30\n",
    "Step: 6300, Loss: 0.3545, Validation Acc: 0.85, Val loss: 0.32\n",
    "Step: 6400, Loss: 0.3030, Validation Acc: 0.85, Val loss: 0.31\n",
    "Step: 6500, Loss: 0.3615, Validation Acc: 0.85, Val loss: 0.30\n",
    "'''"
   ]
  }
 ],
 "metadata": {
  "kernelspec": {
   "display_name": "Python 2",
   "language": "python",
   "name": "python2"
  },
  "language_info": {
   "codemirror_mode": {
    "name": "ipython",
    "version": 3
   },
   "file_extension": ".py",
   "mimetype": "text/x-python",
   "name": "python",
   "nbconvert_exporter": "python",
   "pygments_lexer": "ipython2",
   "version": "2.7.13"
  }
 },
 "nbformat": 4,
 "nbformat_minor": 2
}
