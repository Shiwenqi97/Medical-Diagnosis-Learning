{
 "cells": [
  {
   "cell_type": "code",
   "execution_count": 1,
   "metadata": {
    "ExecuteTime": {
     "end_time": "2017-11-16T01:38:56.961760Z",
     "start_time": "2017-11-16T01:38:55.564215Z"
    },
    "collapsed": true
   },
   "outputs": [],
   "source": [
    "import os\n",
    "import pickle\n",
    "import csv\n",
    "from datetime import datetime\n",
    "import numpy as np\n",
    "import torch\n",
    "from torch.utils.data import Dataset\n",
    "import torch.nn as nn\n",
    "from torch.autograd import Variable\n",
    "import torch.nn.functional as F\n",
    "\n",
    "base_path = '/media/disk3/disk3'\n",
    "use_cuda = torch.cuda.is_available()"
   ]
  },
  {
   "cell_type": "code",
   "execution_count": 202,
   "metadata": {
    "ExecuteTime": {
     "end_time": "2017-11-15T15:15:50.774987Z",
     "start_time": "2017-11-15T15:15:50.753963Z"
    },
    "collapsed": true
   },
   "outputs": [],
   "source": [
    "import sklearn\n",
    "#ndarray -> normalize -> map2word -> tensor    \n",
    "def read_embeddings(vecidx_path, vec_path):\n",
    "    words = []\n",
    "    with open(vecidx_path, 'r') as f:\n",
    "        tsvreader = csv.reader(f, delimiter='\\t')\n",
    "        for i,row in enumerate(tsvreader):\n",
    "            words.append(row[0])\n",
    "#             if i >1000:\n",
    "#                 break\n",
    "\n",
    "    vecs = np.ndarray((len(words), 400))\n",
    "    with open(vec_path, 'r') as f:\n",
    "        tsvreader = csv.reader(f, delimiter='\\t')\n",
    "        for i,row in enumerate(tsvreader):\n",
    "            vecs[i,:] = row[:400]\n",
    "#             if i >1000:\n",
    "#                 break\n",
    "\n",
    "    vecs = sklearn.preprocessing.normalize(vecs)\n",
    "            \n",
    "    word2vec = {_:vecs[i,:].reshape(-1) for i,_ in enumerate(words)}\n",
    "    return word2vec\n",
    "\n",
    "def read_data_dump(data_path):\n",
    "    with open(data_path, 'r') as f:\n",
    "        data = pickle.load(f)\n",
    "    return data\n",
    "\n",
    "def read_vecs(vec_path):\n",
    "    with open(vec_path, 'r') as f:\n",
    "        pretrained = pickle.load(f)\n",
    "    return pretrained\n",
    "\n",
    "\n",
    "def store_formatted():\n",
    "    # Used to optimize preprocessing time by pre-cleaning instead of doing in DataContainer class\n",
    "    rawdata = read_data_dump(os.path.join(base_path, 'notes_dump.pkl'))\n",
    "    vocabs = []\n",
    "    for key in rawdata.keys():\n",
    "        if 'notes' in rawdata[key]:\n",
    "            rawdata[key]['notes'] = sorted(rawdata[key]['notes'], key=lambda x:datetime.strptime(x['date'], '%Y-%m-%d'))\n",
    "            rawdata[key]['notes'] = [clean_str_no_stopwords(note['note']) for note in rawdata[key]['notes']]\n",
    "            for note in rawdata[key]['notes']:\n",
    "                vocabs.extend(note)\n",
    "    f = open(os.path.join(base_path, 'notes_dump_cleaned.pkl'), 'w')\n",
    "    pickle.dump(rawdata, f)\n",
    "    f.close()"
   ]
  },
  {
   "cell_type": "code",
   "execution_count": 208,
   "metadata": {
    "ExecuteTime": {
     "end_time": "2017-11-15T16:31:17.027112Z",
     "start_time": "2017-11-15T16:31:17.020473Z"
    }
   },
   "outputs": [
    {
     "name": "stdout",
     "output_type": "stream",
     "text": [
      "1458\n"
     ]
    }
   ],
   "source": []
  },
  {
   "cell_type": "code",
   "execution_count": 207,
   "metadata": {
    "ExecuteTime": {
     "end_time": "2017-11-15T16:31:04.534274Z",
     "start_time": "2017-11-15T15:19:09.844768Z"
    }
   },
   "outputs": [
    {
     "ename": "KeyboardInterrupt",
     "evalue": "",
     "output_type": "error",
     "traceback": [
      "\u001b[0;31m---------------------------------------------------------------------------\u001b[0m",
      "\u001b[0;31mKeyboardInterrupt\u001b[0m                         Traceback (most recent call last)",
      "\u001b[0;32m<ipython-input-207-910aef7ee1d8>\u001b[0m in \u001b[0;36m<module>\u001b[0;34m()\u001b[0m\n\u001b[1;32m      2\u001b[0m \u001b[0mpretrained_filtered\u001b[0m\u001b[0;34m[\u001b[0m\u001b[0;34m'unknown'\u001b[0m\u001b[0;34m]\u001b[0m \u001b[0;34m=\u001b[0m \u001b[0mpretrained\u001b[0m\u001b[0;34m[\u001b[0m\u001b[0;34m'unknown'\u001b[0m\u001b[0;34m]\u001b[0m\u001b[0;34m\u001b[0m\u001b[0m\n\u001b[1;32m      3\u001b[0m \u001b[0mpretrained_filtered\u001b[0m\u001b[0;34m[\u001b[0m\u001b[0;34m'pad'\u001b[0m\u001b[0;34m]\u001b[0m \u001b[0;34m=\u001b[0m \u001b[0mpretrained\u001b[0m\u001b[0;34m[\u001b[0m\u001b[0;34m'pad'\u001b[0m\u001b[0;34m]\u001b[0m\u001b[0;34m\u001b[0m\u001b[0m\n\u001b[0;32m----> 4\u001b[0;31m \u001b[0;32mfor\u001b[0m \u001b[0mword\u001b[0m \u001b[0;32min\u001b[0m \u001b[0mpretrained\u001b[0m\u001b[0;34m.\u001b[0m\u001b[0mkeys\u001b[0m\u001b[0;34m(\u001b[0m\u001b[0;34m)\u001b[0m\u001b[0;34m:\u001b[0m\u001b[0;34m\u001b[0m\u001b[0m\n\u001b[0m\u001b[1;32m      5\u001b[0m     \u001b[0;32mif\u001b[0m \u001b[0mword\u001b[0m \u001b[0;32min\u001b[0m \u001b[0mvocabs\u001b[0m\u001b[0;34m:\u001b[0m\u001b[0;34m\u001b[0m\u001b[0m\n\u001b[1;32m      6\u001b[0m         \u001b[0mpretrained_filtered\u001b[0m\u001b[0;34m[\u001b[0m\u001b[0mword\u001b[0m\u001b[0;34m]\u001b[0m \u001b[0;34m=\u001b[0m \u001b[0mpretrained\u001b[0m\u001b[0;34m[\u001b[0m\u001b[0mword\u001b[0m\u001b[0;34m]\u001b[0m\u001b[0;34m\u001b[0m\u001b[0m\n",
      "\u001b[0;31mKeyboardInterrupt\u001b[0m: "
     ]
    }
   ],
   "source": [
    "pretrained_filtered = {}\n",
    "pretrained_filtered['unknown'] = pretrained['unknown']\n",
    "pretrained_filtered['pad'] = pretrained['pad']\n",
    "for word in pretrained.keys():\n",
    "    if word in vocabs:\n",
    "        pretrained_filtered[word] = pretrained[word]\n",
    "f = open(os.path.join(base_path, 'filtered_embeddings.pkl'), 'w')\n",
    "pickle.dump(pretrained_filtered, f)\n",
    "f.close()\n",
    "print len(pretrained.keys())\n",
    "print len(pretrained_filtered.keys())"
   ]
  },
  {
   "cell_type": "code",
   "execution_count": 194,
   "metadata": {
    "ExecuteTime": {
     "end_time": "2017-11-15T06:27:28.694265Z",
     "start_time": "2017-11-15T06:27:28.685995Z"
    },
    "collapsed": true
   },
   "outputs": [],
   "source": [
    "def get_labels(data, ccs_path):\n",
    "    \n",
    "    #ccs_mapping\n",
    "    with open(ccs_path, 'rb') as csvf:\n",
    "        ccs_mapping = {}\n",
    "        reader = csv.reader(csv, delimiter=',')\n",
    "        _ = next(row)        \n",
    "        for row in reader:\n",
    "            ccs_mapping[row[0]] = row[1]\n",
    "\n",
    "    #labels = []\n",
    "    for hadm in data.keys():\n",
    "        _seq1_label = data[hadm]['labels']['icd'][0]\n",
    "        try:\n",
    "            data[hadm]['ccs_label'] = ccs_mapping[_seq1_label]\n",
    "        except:\n",
    "            print _seq1_label\n",
    "        #labels.append(data[hadm]['labels']['icd'][0])\n",
    "    return data\n",
    "        "
   ]
  },
  {
   "cell_type": "code",
   "execution_count": 120,
   "metadata": {
    "ExecuteTime": {
     "end_time": "2017-11-15T05:19:03.429966Z",
     "start_time": "2017-11-15T05:19:03.264872Z"
    },
    "collapsed": true
   },
   "outputs": [],
   "source": [
    "from sklearn.feature_extraction import stop_words\n",
    "import re\n",
    "import random\n",
    "\n",
    "def clean_str_no_stopwords(s):\n",
    "    s = re.sub('\\[\\*\\*.*\\*\\*\\]|\\\\n|\\s+', ' ', s).replace('  ', ' ').lower().split() \n",
    "    return [token for token in s if token not in stop_words.ENGLISH_STOP_WORDS]\n",
    "\n",
    "class Datum():\n",
    "    '''\n",
    "    seq of notes\n",
    "        tokenize\n",
    "    labels vector\n",
    "    '''\n",
    "    def __init__(self, data, label_map, embeddings, log_unk):\n",
    "        self.label = label_map[data['labels']['icd'][0]]\n",
    "        # List of Average embedding tokens of each note\n",
    "        self.notes = data['notes']\n",
    "        self.embeddings = embeddings\n",
    "        #Logs missing vocabs in notes & in total\n",
    "        self.log_unk= log_unk\n",
    "        self.logged = False\n",
    "        self.preprocess_notes()        \n",
    "        self.padding_embedding = embeddings['pad']\n",
    "        \n",
    "    def preprocess_notes(self):\n",
    "        self.notes = sorted(self.notes, key=lambda x:datetime.strptime(x['date'], '%Y-%m-%d'))\n",
    "        self.notes = [clean_str_no_stopwords(note['note']) for note in self.notes]\n",
    "        # averaging of embeddings\n",
    "        # PAD & UNKNOWN\n",
    "        # padding of notes seq. in dataloader collation\n",
    "        embedded_notes = []\n",
    "        for note in self.notes:\n",
    "            emb_note = []\n",
    "            for _ in note:\n",
    "                _emb = self.embeddings.get(_, None)\n",
    "                if _emb is not None:\n",
    "                    emb_note.append(_emb)\n",
    "                else:\n",
    "                    if self.log_unk.get(_) is None:\n",
    "                        self.log_unk[_] = {'count':1, 'notes':1}\n",
    "                    else:\n",
    "                        if self.logged is False:\n",
    "                            self.log_unk[_]['count'] +=1\n",
    "                            self.log_unk[_]['notes'] +=1\n",
    "                            self.logged = True\n",
    "                        else:\n",
    "                            self.log_unk[_]['count'] +=1\n",
    "                    emb_note.append(self.embeddings['unknown'])\n",
    "                                                    \n",
    "            embedded_notes.append(np.mean(emb_note, 0))\n",
    "        self.notes = embedded_notes\n",
    "        "
   ]
  },
  {
   "cell_type": "code",
   "execution_count": 200,
   "metadata": {
    "ExecuteTime": {
     "end_time": "2017-11-15T15:10:10.070978Z",
     "start_time": "2017-11-15T15:04:53.982766Z"
    },
    "collapsed": true,
    "scrolled": true
   },
   "outputs": [],
   "source": [
    "#Getting only priority #1 labels now\n",
    "pretrained = read_embeddings(os.path.join(base_path, 'ri-3gram-400-tsv/vocab.tsv'), \n",
    "                                         os.path.join(base_path, 'ri-3gram-400-tsv/vectors.tsv'))\n",
    "# rawdata = read_data_dump(os.path.join(base_path, 'notes_dump.pkl'))\n",
    "\n",
    "# #TODO Map labels to CCS\n",
    "# label_map = get_labels(rawdata)\n",
    "# log_unk = {}\n",
    "# dataset = []\n",
    "# for adm in rawdata:\n",
    "# #     if len(dataset) > 1000:\n",
    "# #         break\n",
    "#     if 'notes' in rawdata[adm]:\n",
    "#         dataset.append(Datum(rawdata[adm], label_map, pretrained, log_unk))\n",
    "# ###dataset = [Datum(data[adm], label_map, pretrained, log_unk) for adm in data if 'notes' in data[adm]]    \n",
    "# random.shuffle(dataset)\n",
    "# margin = int(len(dataset)*0.8)\n",
    "# trainset = dataset[:margin]\n",
    "# valset = dataset[margin:]"
   ]
  },
  {
   "cell_type": "code",
   "execution_count": 161,
   "metadata": {
    "ExecuteTime": {
     "end_time": "2017-11-15T06:01:01.559100Z",
     "start_time": "2017-11-15T06:01:01.411016Z"
    },
    "collapsed": true
   },
   "outputs": [],
   "source": [
    "batch_size = 64\n",
    "num_workers = 2\n",
    "hidden_dim = 100\n",
    "\n",
    "class Dataloader(Dataset):\n",
    "    def __init__(self, data):\n",
    "        super(Dataloader, self).__init__()\n",
    "        self.data = data\n",
    "    def __getitem__(self, index):\n",
    "        return self.data[index]#(self.data[index].embedded_notes, self.data[index].label) \n",
    "    def __len__(self):\n",
    "        return len(self.data)\n",
    "    \n",
    "def padding_collation(batch):\n",
    "    batch_list, label_list = [], []\n",
    "    max_seq_len = np.max([len(datum.notes) for datum in batch])\n",
    "    for datum in batch:\n",
    "        padded_vec = [datum.padding_embedding for i in range(max_seq_len-len(datum.notes))] + datum.notes\n",
    "        batch_list.append(padded_vec)\n",
    "        label_list.append(datum.label)\n",
    "    return [batch_list, label_list]    \n",
    "\n",
    "train_loader = torch.utils.data.DataLoader(dataset= Dataloader(trainset), batch_size=batch_size, shuffle=True, \n",
    "                                                           num_workers=num_workers, collate_fn=padding_collation)\n",
    "val_loader = torch.utils.data.DataLoader(dataset= Dataloader(valset), batch_size=batch_size, shuffle=True, \n",
    "                                                           num_workers=num_workers, collate_fn=padding_collation)"
   ]
  },
  {
   "cell_type": "code",
   "execution_count": 195,
   "metadata": {
    "ExecuteTime": {
     "end_time": "2017-11-15T06:27:42.570236Z",
     "start_time": "2017-11-15T06:27:42.546274Z"
    },
    "collapsed": true
   },
   "outputs": [],
   "source": [
    "class LSTMModel(nn.Module):\n",
    "    def __init__(self, embed_dim, hidden_dim, labels, batch_size):\n",
    "        super(LSTMModel, self).__init__()\n",
    "        self.batch_size = batch_size\n",
    "        self.hidden_dim = hidden_dim\n",
    "        self.lstm = nn.LSTM(embed_dim, hidden_dim)\n",
    "        self.lin = nn.Linear(hidden_dim, len(labels.keys()))\n",
    "    def init_hidden(self):\n",
    "        hidden1 = Variable(torch.zeros(1, self.batch_size, self.hidden_dim))\n",
    "        hidden2 = Variable(torch.zeros(1, self.batch_size, self.hidden_dim))\n",
    "        if use_cuda:\n",
    "            return (hidden1.cuda(), hidden2.cuda())\n",
    "        else:\n",
    "            return (hidden1, hidden2)\n",
    "    def forward(self, x, hidden):\n",
    "        # seqlen x batch x emb_dim\n",
    "        x = torch.transpose(x, 1, 0)\n",
    "        x, _hidden  = self.lstm(x, hidden)\n",
    "        x = x[-1, :, :].view(self.batch_size, -1)\n",
    "        x = self.lin(x)\n",
    "        return x"
   ]
  },
  {
   "cell_type": "code",
   "execution_count": 197,
   "metadata": {
    "ExecuteTime": {
     "end_time": "2017-11-15T06:28:58.398636Z",
     "start_time": "2017-11-15T06:28:58.349887Z"
    }
   },
   "outputs": [
    {
     "ename": "RuntimeError",
     "evalue": "cuda runtime error (59) : device-side assert triggered at /pytorch/torch/lib/THC/generic/THCStorage.cu:66",
     "output_type": "error",
     "traceback": [
      "\u001b[0;31m---------------------------------------------------------------------------\u001b[0m",
      "\u001b[0;31mRuntimeError\u001b[0m                              Traceback (most recent call last)",
      "\u001b[0;32m<ipython-input-197-fdfed62aa16d>\u001b[0m in \u001b[0;36m<module>\u001b[0;34m()\u001b[0m\n\u001b[1;32m      5\u001b[0m \u001b[0;34m\u001b[0m\u001b[0m\n\u001b[1;32m      6\u001b[0m \u001b[0;32mif\u001b[0m \u001b[0muse_cuda\u001b[0m\u001b[0;34m:\u001b[0m\u001b[0;34m\u001b[0m\u001b[0m\n\u001b[0;32m----> 7\u001b[0;31m     \u001b[0mmodel\u001b[0m\u001b[0;34m.\u001b[0m\u001b[0mcuda\u001b[0m\u001b[0;34m(\u001b[0m\u001b[0;34m)\u001b[0m\u001b[0;34m\u001b[0m\u001b[0m\n\u001b[0m\u001b[1;32m      8\u001b[0m     \u001b[0;31m#crit.cuda()\u001b[0m\u001b[0;34m\u001b[0m\u001b[0;34m\u001b[0m\u001b[0m\n",
      "\u001b[0;32m/usr/local/lib/python2.7/dist-packages/torch/nn/modules/module.pyc\u001b[0m in \u001b[0;36mcuda\u001b[0;34m(self, device_id)\u001b[0m\n\u001b[1;32m    145\u001b[0m                 \u001b[0mcopied\u001b[0m \u001b[0mto\u001b[0m \u001b[0mthat\u001b[0m \u001b[0mdevice\u001b[0m\u001b[0;34m\u001b[0m\u001b[0m\n\u001b[1;32m    146\u001b[0m         \"\"\"\n\u001b[0;32m--> 147\u001b[0;31m         \u001b[0;32mreturn\u001b[0m \u001b[0mself\u001b[0m\u001b[0;34m.\u001b[0m\u001b[0m_apply\u001b[0m\u001b[0;34m(\u001b[0m\u001b[0;32mlambda\u001b[0m \u001b[0mt\u001b[0m\u001b[0;34m:\u001b[0m \u001b[0mt\u001b[0m\u001b[0;34m.\u001b[0m\u001b[0mcuda\u001b[0m\u001b[0;34m(\u001b[0m\u001b[0mdevice_id\u001b[0m\u001b[0;34m)\u001b[0m\u001b[0;34m)\u001b[0m\u001b[0;34m\u001b[0m\u001b[0m\n\u001b[0m\u001b[1;32m    148\u001b[0m \u001b[0;34m\u001b[0m\u001b[0m\n\u001b[1;32m    149\u001b[0m     \u001b[0;32mdef\u001b[0m \u001b[0mcpu\u001b[0m\u001b[0;34m(\u001b[0m\u001b[0mself\u001b[0m\u001b[0;34m)\u001b[0m\u001b[0;34m:\u001b[0m\u001b[0;34m\u001b[0m\u001b[0m\n",
      "\u001b[0;32m/usr/local/lib/python2.7/dist-packages/torch/nn/modules/module.pyc\u001b[0m in \u001b[0;36m_apply\u001b[0;34m(self, fn)\u001b[0m\n\u001b[1;32m    116\u001b[0m     \u001b[0;32mdef\u001b[0m \u001b[0m_apply\u001b[0m\u001b[0;34m(\u001b[0m\u001b[0mself\u001b[0m\u001b[0;34m,\u001b[0m \u001b[0mfn\u001b[0m\u001b[0;34m)\u001b[0m\u001b[0;34m:\u001b[0m\u001b[0;34m\u001b[0m\u001b[0m\n\u001b[1;32m    117\u001b[0m         \u001b[0;32mfor\u001b[0m \u001b[0mmodule\u001b[0m \u001b[0;32min\u001b[0m \u001b[0mself\u001b[0m\u001b[0;34m.\u001b[0m\u001b[0mchildren\u001b[0m\u001b[0;34m(\u001b[0m\u001b[0;34m)\u001b[0m\u001b[0;34m:\u001b[0m\u001b[0;34m\u001b[0m\u001b[0m\n\u001b[0;32m--> 118\u001b[0;31m             \u001b[0mmodule\u001b[0m\u001b[0;34m.\u001b[0m\u001b[0m_apply\u001b[0m\u001b[0;34m(\u001b[0m\u001b[0mfn\u001b[0m\u001b[0;34m)\u001b[0m\u001b[0;34m\u001b[0m\u001b[0m\n\u001b[0m\u001b[1;32m    119\u001b[0m \u001b[0;34m\u001b[0m\u001b[0m\n\u001b[1;32m    120\u001b[0m         \u001b[0;32mfor\u001b[0m \u001b[0mparam\u001b[0m \u001b[0;32min\u001b[0m \u001b[0mself\u001b[0m\u001b[0;34m.\u001b[0m\u001b[0m_parameters\u001b[0m\u001b[0;34m.\u001b[0m\u001b[0mvalues\u001b[0m\u001b[0;34m(\u001b[0m\u001b[0;34m)\u001b[0m\u001b[0;34m:\u001b[0m\u001b[0;34m\u001b[0m\u001b[0m\n",
      "\u001b[0;32m/usr/local/lib/python2.7/dist-packages/torch/nn/modules/rnn.pyc\u001b[0m in \u001b[0;36m_apply\u001b[0;34m(self, fn)\u001b[0m\n\u001b[1;32m    113\u001b[0m \u001b[0;34m\u001b[0m\u001b[0m\n\u001b[1;32m    114\u001b[0m     \u001b[0;32mdef\u001b[0m \u001b[0m_apply\u001b[0m\u001b[0;34m(\u001b[0m\u001b[0mself\u001b[0m\u001b[0;34m,\u001b[0m \u001b[0mfn\u001b[0m\u001b[0;34m)\u001b[0m\u001b[0;34m:\u001b[0m\u001b[0;34m\u001b[0m\u001b[0m\n\u001b[0;32m--> 115\u001b[0;31m         \u001b[0mret\u001b[0m \u001b[0;34m=\u001b[0m \u001b[0msuper\u001b[0m\u001b[0;34m(\u001b[0m\u001b[0mRNNBase\u001b[0m\u001b[0;34m,\u001b[0m \u001b[0mself\u001b[0m\u001b[0;34m)\u001b[0m\u001b[0;34m.\u001b[0m\u001b[0m_apply\u001b[0m\u001b[0;34m(\u001b[0m\u001b[0mfn\u001b[0m\u001b[0;34m)\u001b[0m\u001b[0;34m\u001b[0m\u001b[0m\n\u001b[0m\u001b[1;32m    116\u001b[0m         \u001b[0mself\u001b[0m\u001b[0;34m.\u001b[0m\u001b[0mflatten_parameters\u001b[0m\u001b[0;34m(\u001b[0m\u001b[0;34m)\u001b[0m\u001b[0;34m\u001b[0m\u001b[0m\n\u001b[1;32m    117\u001b[0m         \u001b[0;32mreturn\u001b[0m \u001b[0mret\u001b[0m\u001b[0;34m\u001b[0m\u001b[0m\n",
      "\u001b[0;32m/usr/local/lib/python2.7/dist-packages/torch/nn/modules/module.pyc\u001b[0m in \u001b[0;36m_apply\u001b[0;34m(self, fn)\u001b[0m\n\u001b[1;32m    122\u001b[0m                 \u001b[0;31m# Variables stored in modules are graph leaves, and we don't\u001b[0m\u001b[0;34m\u001b[0m\u001b[0;34m\u001b[0m\u001b[0m\n\u001b[1;32m    123\u001b[0m                 \u001b[0;31m# want to create copy nodes, so we have to unpack the data.\u001b[0m\u001b[0;34m\u001b[0m\u001b[0;34m\u001b[0m\u001b[0m\n\u001b[0;32m--> 124\u001b[0;31m                 \u001b[0mparam\u001b[0m\u001b[0;34m.\u001b[0m\u001b[0mdata\u001b[0m \u001b[0;34m=\u001b[0m \u001b[0mfn\u001b[0m\u001b[0;34m(\u001b[0m\u001b[0mparam\u001b[0m\u001b[0;34m.\u001b[0m\u001b[0mdata\u001b[0m\u001b[0;34m)\u001b[0m\u001b[0;34m\u001b[0m\u001b[0m\n\u001b[0m\u001b[1;32m    125\u001b[0m                 \u001b[0;32mif\u001b[0m \u001b[0mparam\u001b[0m\u001b[0;34m.\u001b[0m\u001b[0m_grad\u001b[0m \u001b[0;32mis\u001b[0m \u001b[0;32mnot\u001b[0m \u001b[0mNone\u001b[0m\u001b[0;34m:\u001b[0m\u001b[0;34m\u001b[0m\u001b[0m\n\u001b[1;32m    126\u001b[0m                     \u001b[0mparam\u001b[0m\u001b[0;34m.\u001b[0m\u001b[0m_grad\u001b[0m\u001b[0;34m.\u001b[0m\u001b[0mdata\u001b[0m \u001b[0;34m=\u001b[0m \u001b[0mfn\u001b[0m\u001b[0;34m(\u001b[0m\u001b[0mparam\u001b[0m\u001b[0;34m.\u001b[0m\u001b[0m_grad\u001b[0m\u001b[0;34m.\u001b[0m\u001b[0mdata\u001b[0m\u001b[0;34m)\u001b[0m\u001b[0;34m\u001b[0m\u001b[0m\n",
      "\u001b[0;32m/usr/local/lib/python2.7/dist-packages/torch/nn/modules/module.pyc\u001b[0m in \u001b[0;36m<lambda>\u001b[0;34m(t)\u001b[0m\n\u001b[1;32m    145\u001b[0m                 \u001b[0mcopied\u001b[0m \u001b[0mto\u001b[0m \u001b[0mthat\u001b[0m \u001b[0mdevice\u001b[0m\u001b[0;34m\u001b[0m\u001b[0m\n\u001b[1;32m    146\u001b[0m         \"\"\"\n\u001b[0;32m--> 147\u001b[0;31m         \u001b[0;32mreturn\u001b[0m \u001b[0mself\u001b[0m\u001b[0;34m.\u001b[0m\u001b[0m_apply\u001b[0m\u001b[0;34m(\u001b[0m\u001b[0;32mlambda\u001b[0m \u001b[0mt\u001b[0m\u001b[0;34m:\u001b[0m \u001b[0mt\u001b[0m\u001b[0;34m.\u001b[0m\u001b[0mcuda\u001b[0m\u001b[0;34m(\u001b[0m\u001b[0mdevice_id\u001b[0m\u001b[0;34m)\u001b[0m\u001b[0;34m)\u001b[0m\u001b[0;34m\u001b[0m\u001b[0m\n\u001b[0m\u001b[1;32m    148\u001b[0m \u001b[0;34m\u001b[0m\u001b[0m\n\u001b[1;32m    149\u001b[0m     \u001b[0;32mdef\u001b[0m \u001b[0mcpu\u001b[0m\u001b[0;34m(\u001b[0m\u001b[0mself\u001b[0m\u001b[0;34m)\u001b[0m\u001b[0;34m:\u001b[0m\u001b[0;34m\u001b[0m\u001b[0m\n",
      "\u001b[0;32m/usr/local/lib/python2.7/dist-packages/torch/_utils.pyc\u001b[0m in \u001b[0;36m_cuda\u001b[0;34m(self, device, async)\u001b[0m\n\u001b[1;32m     64\u001b[0m         \u001b[0;32melse\u001b[0m\u001b[0;34m:\u001b[0m\u001b[0;34m\u001b[0m\u001b[0m\n\u001b[1;32m     65\u001b[0m             \u001b[0mnew_type\u001b[0m \u001b[0;34m=\u001b[0m \u001b[0mgetattr\u001b[0m\u001b[0;34m(\u001b[0m\u001b[0mtorch\u001b[0m\u001b[0;34m.\u001b[0m\u001b[0mcuda\u001b[0m\u001b[0;34m,\u001b[0m \u001b[0mself\u001b[0m\u001b[0;34m.\u001b[0m\u001b[0m__class__\u001b[0m\u001b[0;34m.\u001b[0m\u001b[0m__name__\u001b[0m\u001b[0;34m)\u001b[0m\u001b[0;34m\u001b[0m\u001b[0m\n\u001b[0;32m---> 66\u001b[0;31m             \u001b[0;32mreturn\u001b[0m \u001b[0mnew_type\u001b[0m\u001b[0;34m(\u001b[0m\u001b[0mself\u001b[0m\u001b[0;34m.\u001b[0m\u001b[0msize\u001b[0m\u001b[0;34m(\u001b[0m\u001b[0;34m)\u001b[0m\u001b[0;34m)\u001b[0m\u001b[0;34m.\u001b[0m\u001b[0mcopy_\u001b[0m\u001b[0;34m(\u001b[0m\u001b[0mself\u001b[0m\u001b[0;34m,\u001b[0m \u001b[0masync\u001b[0m\u001b[0;34m)\u001b[0m\u001b[0;34m\u001b[0m\u001b[0m\n\u001b[0m\u001b[1;32m     67\u001b[0m \u001b[0;34m\u001b[0m\u001b[0m\n\u001b[1;32m     68\u001b[0m \u001b[0;34m\u001b[0m\u001b[0m\n",
      "\u001b[0;31mRuntimeError\u001b[0m: cuda runtime error (59) : device-side assert triggered at /pytorch/torch/lib/THC/generic/THCStorage.cu:66"
     ]
    }
   ],
   "source": [
    "\n",
    "model = LSTMModel(400, hidden_dim, label_map, batch_size)\n",
    "opti = torch.optim.Adam(model.parameters(), lr=1e-3, betas=(0.5, 0.999))\n",
    "crit = nn.CrossEntropyLoss()\n",
    "\n",
    "if use_cuda:\n",
    "    model.cuda()\n",
    "    crit.cuda()"
   ]
  },
  {
   "cell_type": "code",
   "execution_count": 169,
   "metadata": {
    "ExecuteTime": {
     "end_time": "2017-11-15T06:04:11.085307Z",
     "start_time": "2017-11-15T06:04:11.064293Z"
    },
    "collapsed": true
   },
   "outputs": [],
   "source": [
    "def evaluate(model, loader, batch_size):\n",
    "    model.eval()\n",
    "    correct = 0\n",
    "    total = 0\n",
    "\n",
    "    for batch in loader:\n",
    "        if len(batch[0]) != batch_size:\n",
    "            continue\n",
    "        try:\n",
    "            batch_x, batch_y = torch.from_numpy(np.array(batch[0])).float(), torch.from_numpy(np.array(batch[1])).long()\n",
    "        except:\n",
    "            continue\n",
    "        if use_cuda:\n",
    "            batch_x, batch_y = batch_x.cuda(), batch_y.cuda()\n",
    "            \n",
    "        x = Variable(batch_x)\n",
    "        hidden = model.init_hidden()\n",
    "        x = model(x, hidden)\n",
    "        _, predicted = torch.max(x.data, 1)\n",
    "        total += batch_y.size(0)\n",
    "        correct += (predicted == batch_y).sum()\n",
    "    return correct / float(total)"
   ]
  },
  {
   "cell_type": "code",
   "execution_count": 179,
   "metadata": {
    "ExecuteTime": {
     "end_time": "2017-11-15T06:20:05.992685Z",
     "start_time": "2017-11-15T06:20:04.981682Z"
    }
   },
   "outputs": [
    {
     "name": "stdout",
     "output_type": "stream",
     "text": [
      "250\n",
      "<type 'list'>\n",
      "object\n"
     ]
    },
    {
     "ename": "RuntimeError",
     "evalue": "can't convert a given np.ndarray to a tensor - it has an invalid type. The only supported types are: double, float, int64, int32, and uint8.",
     "output_type": "error",
     "traceback": [
      "\u001b[0;31m---------------------------------------------------------------------------\u001b[0m",
      "\u001b[0;31mRuntimeError\u001b[0m                              Traceback (most recent call last)",
      "\u001b[0;32m<ipython-input-179-a28544a854b0>\u001b[0m in \u001b[0;36m<module>\u001b[0;34m()\u001b[0m\n\u001b[1;32m     17\u001b[0m         \u001b[0;32mprint\u001b[0m \u001b[0mtype\u001b[0m\u001b[0;34m(\u001b[0m\u001b[0mbatch\u001b[0m\u001b[0;34m[\u001b[0m\u001b[0;36m0\u001b[0m\u001b[0;34m]\u001b[0m\u001b[0;34m[\u001b[0m\u001b[0;36m0\u001b[0m\u001b[0;34m]\u001b[0m\u001b[0;34m)\u001b[0m\u001b[0;34m\u001b[0m\u001b[0m\n\u001b[1;32m     18\u001b[0m         \u001b[0;32mprint\u001b[0m \u001b[0mnp\u001b[0m\u001b[0;34m.\u001b[0m\u001b[0marray\u001b[0m\u001b[0;34m(\u001b[0m\u001b[0mbatch\u001b[0m\u001b[0;34m[\u001b[0m\u001b[0;36m0\u001b[0m\u001b[0;34m]\u001b[0m\u001b[0;34m)\u001b[0m\u001b[0;34m.\u001b[0m\u001b[0mdtype\u001b[0m\u001b[0;34m\u001b[0m\u001b[0m\n\u001b[0;32m---> 19\u001b[0;31m         \u001b[0;32mprint\u001b[0m \u001b[0mtorch\u001b[0m\u001b[0;34m.\u001b[0m\u001b[0mfrom_numpy\u001b[0m\u001b[0;34m(\u001b[0m\u001b[0mnp\u001b[0m\u001b[0;34m.\u001b[0m\u001b[0marray\u001b[0m\u001b[0;34m(\u001b[0m\u001b[0mbatch\u001b[0m\u001b[0;34m[\u001b[0m\u001b[0;36m0\u001b[0m\u001b[0;34m]\u001b[0m\u001b[0;34m)\u001b[0m\u001b[0;34m)\u001b[0m\u001b[0;34m\u001b[0m\u001b[0m\n\u001b[0m\u001b[1;32m     20\u001b[0m         \u001b[0;32mbreak\u001b[0m\u001b[0;34m\u001b[0m\u001b[0m\n\u001b[1;32m     21\u001b[0m \u001b[0;34m\u001b[0m\u001b[0m\n",
      "\u001b[0;31mRuntimeError\u001b[0m: can't convert a given np.ndarray to a tensor - it has an invalid type. The only supported types are: double, float, int64, int32, and uint8."
     ]
    }
   ],
   "source": [
    "step = 0\n",
    "step_log = []\n",
    "loss_log = []\n",
    "val_acc_log = []\n",
    "torch.manual_seed(1)\n",
    "for batch in train_loader:\n",
    "    if len(batch[0]) != batch_size:\n",
    "        continue\n",
    "    model.zero_grad()\n",
    "    try:\n",
    "        batch_x, batch_y = torch.from_numpy(np.array(batch[0])).float(), torch.from_numpy(np.array(batch[1])).long()\n",
    "    except:\n",
    "        continue\n",
    "#         f=open('dump.txt', 'w')\n",
    "#         print >>f, np.array(batch[0])\n",
    "#         f.close()\n",
    "#         print len(batch[0][0])\n",
    "#         print type(batch[0][0])\n",
    "#         print np.array(batch[0]).dtype\n",
    "#         print torch.from_numpy(np.array(batch[0]))\n",
    "#         break\n",
    "    \n",
    "    if use_cuda:\n",
    "        batch_x, batch_y = batch_x.cuda(), batch_y.cuda()\n",
    "    x = Variable(batch_x)\n",
    "    hidden = model.init_hidden()\n",
    "    x = model(x, hidden)\n",
    "\n",
    "    loss = crit(x, Variable(batch_y.view(batch_size)))\n",
    "    loss.backward()\n",
    "    opti.step()\n",
    "    \n",
    "    if step % 100 == 0:\n",
    "        val_acc = evaluate(model, val_loader, batch_size)\n",
    "        print(\"Step: %d, Loss: %.4f, Validation Acc: %.2f\"%(step, loss.data[0], val_acc))\n",
    "        step_log.append(step)\n",
    "        loss_log.append(loss.data[0])\n",
    "        val_acc_log.append(val_acc)\n",
    "    step += 1\n",
    "#     if step == 20:\n",
    "#         break\n",
    "\n",
    "f=open('results.pkl', 'w')\n",
    "pickle.dump({'step': step_log, 'loss': loss_log, 'val': val_acc_log}, f)\n",
    "f.close()"
   ]
  },
  {
   "cell_type": "code",
   "execution_count": null,
   "metadata": {
    "collapsed": true
   },
   "outputs": [],
   "source": [
    "import matplotlib.pyplot as plt\n",
    "%matplotlib inline\n",
    "\n",
    "plt.plot(step_log, loss_log)"
   ]
  }
 ],
 "metadata": {
  "kernelspec": {
   "display_name": "Python 3",
   "language": "python3",
   "name": "python3"
  },
  "language_info": {
   "codemirror_mode": {
    "name": "ipython",
    "version": 2
   },
   "file_extension": ".py",
   "mimetype": "text/x-python",
   "name": "python",
   "nbconvert_exporter": "python",
   "pygments_lexer": "ipython2",
   "version": "2.7.6"
  }
 },
 "nbformat": 4,
 "nbformat_minor": 2
}
