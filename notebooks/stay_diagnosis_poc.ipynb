{
 "cells": [
  {
   "cell_type": "code",
   "execution_count": 31,
   "metadata": {
    "ExecuteTime": {
     "end_time": "2017-11-15T04:31:58.693281Z",
     "start_time": "2017-11-15T04:31:58.684096Z"
    },
    "collapsed": true
   },
   "outputs": [],
   "source": [
    "import os\n",
    "import pickle\n",
    "import csv\n",
    "from datetime import datetime\n",
    "import numpy as np\n",
    "import torch\n",
    "\n",
    "base_path = '/media/disk3/disk3'"
   ]
  },
  {
   "cell_type": "code",
   "execution_count": 48,
   "metadata": {
    "ExecuteTime": {
     "end_time": "2017-11-15T04:39:56.599004Z",
     "start_time": "2017-11-15T04:39:56.561870Z"
    }
   },
   "outputs": [],
   "source": [
    "import sklearn\n",
    "#ndarray -> normalize -> map2word -> tensor    \n",
    "def read_embeddings(vecidx_path, vec_path):\n",
    "    words = []\n",
    "    with open(vecidx_path, 'r') as f:\n",
    "        tsvreader = csv.reader(f, delimiter='\\t')\n",
    "        for i,row in enumerate(tsvreader):\n",
    "            words.append(row[0])\n",
    "            if i >1000:\n",
    "                break\n",
    "\n",
    "    vecs = np.ndarray((len(words), 400))\n",
    "    with open(vec_path, 'r') as f:\n",
    "        tsvreader = csv.reader(f, delimiter='\\t')\n",
    "        for i,row in enumerate(tsvreader):\n",
    "            vecs[i,:] = row[:400]\n",
    "            if i >1000:\n",
    "                break\n",
    "\n",
    "    vecs = sklearn.preprocessing.normalize(vecs)\n",
    "            \n",
    "    word2vec = {_:vecs[i,:].reshape(-1) for i,_ in enumerate(words)}\n",
    "    return word2vec"
   ]
  },
  {
   "cell_type": "code",
   "execution_count": 49,
   "metadata": {
    "ExecuteTime": {
     "end_time": "2017-11-15T04:39:57.953772Z",
     "start_time": "2017-11-15T04:39:57.946297Z"
    },
    "collapsed": true
   },
   "outputs": [],
   "source": [
    "def read_data_dump(data_path):\n",
    "    with open(data_path, 'r') as f:\n",
    "        data = pickle.load(f)\n",
    "    return data"
   ]
  },
  {
   "cell_type": "code",
   "execution_count": 89,
   "metadata": {
    "ExecuteTime": {
     "end_time": "2017-11-15T04:59:31.300776Z",
     "start_time": "2017-11-15T04:59:31.293358Z"
    },
    "collapsed": true
   },
   "outputs": [],
   "source": [
    "def get_labels(data):\n",
    "    labels = []\n",
    "    for hadm in data.keys():\n",
    "        labels.append(data[hadm]['labels']['icd'][0])\n",
    "    labels = {i:_ for _,i in enumerate(labels)}\n",
    "    return labels"
   ]
  },
  {
   "cell_type": "code",
   "execution_count": 84,
   "metadata": {
    "ExecuteTime": {
     "end_time": "2017-11-15T04:55:10.671028Z",
     "start_time": "2017-11-15T04:55:10.607610Z"
    },
    "collapsed": true
   },
   "outputs": [],
   "source": [
    "from sklearn.feature_extraction import stop_words\n",
    "import re\n",
    "import random\n",
    "\n",
    "def clean_str_no_stopwords(s):\n",
    "    s = re.sub('\\[\\*\\*.*\\*\\*\\]|\\\\n|\\s+', ' ', s).replace('  ', ' ').lower().split() \n",
    "    return [token for token in s if token not in stop_words.ENGLISH_STOP_WORDS]\n",
    "\n",
    "class Datum():\n",
    "    '''\n",
    "    seq of notes\n",
    "        tokenize\n",
    "    labels vector\n",
    "    '''\n",
    "    def __init__(self, data, label_map, embeddings, log_unk):\n",
    "        self.label = label_map[data['labels']['icd'][0]]\n",
    "        # List of Average embedding tokens of each note\n",
    "        self.notes = data['notes']\n",
    "        self.embeddings = embeddings\n",
    "        #Logs missing vocabs in notes & in total\n",
    "        self.log_unk= log_unk\n",
    "        self.logged = False\n",
    "        self.preprocess_notes()        \n",
    "        \n",
    "    def preprocess_notes(self):\n",
    "        self.notes = sorted(self.notes, key=lambda x:datetime.strptime(x['date'], '%Y-%m-%d'))\n",
    "        self.notes = [clean_str_no_stopwords(note['note']) for note in self.notes]\n",
    "        # averaging of embeddings\n",
    "        # PAD & UNKNOWN\n",
    "        # padding of notes seq. in dataloader collation\n",
    "        embedded_notes = []\n",
    "        for note in self.notes:\n",
    "            emb_note = []\n",
    "            for _ in note:\n",
    "                _emb = self.embeddings.get(_, None)\n",
    "                if _emb is not None:\n",
    "                    emb_note.append(_emb)\n",
    "                else:\n",
    "                    if self.log_unk.get(_) is None:\n",
    "                        self.log_unk[_] = {'count':1, 'notes':1}\n",
    "                    else:\n",
    "                        if self.logged is False:\n",
    "                            self.log_unk[_]['count'] +=1\n",
    "                            self.log_unk[_]['notes'] +=1\n",
    "                            self.logged = True\n",
    "                        else:\n",
    "                            self.log_unk[_]['count'] +=1\n",
    "                    emb_note.append(self.embeddings['unknown'])\n",
    "                                                    \n",
    "            embedded_notes.append(np.mean(emb_note, 0))\n",
    "        self.notes = embedded_notes\n",
    "        "
   ]
  },
  {
   "cell_type": "code",
   "execution_count": null,
   "metadata": {
    "ExecuteTime": {
     "start_time": "2017-11-15T04:59:44.729Z"
    },
    "scrolled": true
   },
   "outputs": [],
   "source": [
    "#Getting only priority #1 labels now\n",
    "# pretrained = read_embeddings(os.path.join(base_path, 'ri-3gram-400-tsv/vocab.tsv'), \n",
    "#                                          os.path.join(base_path, 'ri-3gram-400-tsv/vectors.tsv'))\n",
    "# data = read_data_dump(os.path.join(base_path, 'notes_dump.pkl'))\n",
    "\n",
    "#TODO Map labels to CCS\n",
    "label_map = get_labels(data)\n",
    "log_unk = {}\n",
    "dataset = [Datum(data[adm], label_map, pretrained, log_unk) for adm in data if 'notes' in data[adm]]    \n",
    "# random.shuffle(dataset)\n",
    "# margin = int(len(dataset)*0.8)\n",
    "# trainset = dataset[:margin]\n",
    "# valset = dataset[margin:]"
   ]
  },
  {
   "cell_type": "code",
   "execution_count": null,
   "metadata": {
    "collapsed": true
   },
   "outputs": [],
   "source": [
    "#TODO Print log of missing vocab"
   ]
  },
  {
   "cell_type": "code",
   "execution_count": null,
   "metadata": {
    "collapsed": true
   },
   "outputs": [],
   "source": [
    "batch_size = 64\n",
    "num_workers = 2\n",
    "hidden_dim = 100\n",
    "\n",
    "class Dataloader(data.Dataset):\n",
    "    def __init__(self, data):\n",
    "        super(Dataloader, self).__init__()\n",
    "        self.data = data\n",
    "    def __getitem__(self, index):\n",
    "        return self.data[index]#(self.data[index].embedded_notes, self.data[index].label) \n",
    "    def __len__(self):\n",
    "        return len(self.data)\n",
    "    \n",
    "def padding_collation(batch):\n",
    "    batch_list, label_list = [], []\n",
    "    max_seq_len = np.max([len(datum.embedded_notes) for datum in batch])\n",
    "    for datum in batch:\n",
    "        ##TODO MAP to padding embedding\n",
    "        padded_vec = [embedded_notes['pad'] for i in range(max_seq_len-len(datum.embedded_notes))] + datum.embedded_notes\n",
    "        batch_list.append(padded_vec)\n",
    "        label_list.append(datum.label)\n",
    "    return [batch_list, label_list]    \n",
    "\n",
    "train_loader = torch.utils.data.DataLoader(dataset= Dataloader(training_set), batch_size=batch_size, shuffle=True, \n",
    "                                                           num_workers=num_workers, collate_fn=padding_collation)\n",
    "val_loader = torch.utils.data.DataLoader(dataset= Dataloader(val_set), batch_size=batch_size, shuffle=True, \n",
    "                                                           num_workers=num_workers, collate_fn=padding_collation)"
   ]
  },
  {
   "cell_type": "code",
   "execution_count": null,
   "metadata": {
    "collapsed": true
   },
   "outputs": [],
   "source": [
    "class LSTMModel(nn.Module):\n",
    "    def __init__(self, embed_dim, hidden_dim, labels, batch_size):\n",
    "        super(LSTMModel, self).__init__()\n",
    "        self.batch_size = batch_size\n",
    "        self.hidden_dim = hidden_dim\n",
    "        self.lstm = nn.LSTM(embed_dim, hidden_dim)\n",
    "        self.lin = nn.Linear(hidden_dim, len(labels.keys()))\n",
    "    def init_hidden(self):\n",
    "        return (Variable(torch.zeros(1, self.batch_size, self.hidden_dim)), Variable(torch.zeros(1, self.batch_size, self.hidden_dim)))\n",
    "    def forward(self, x, hidden):\n",
    "        # seqlen x batch x emb_dim\n",
    "        x = torch.transpose(x, 1, 0)\n",
    "        x, _hidden  = self.lstm(x, hidden)\n",
    "        x = x[-1, :, :].view(self.batch_size, -1)\n",
    "        x = self.lin(x)\n",
    "        return x"
   ]
  },
  {
   "cell_type": "code",
   "execution_count": null,
   "metadata": {
    "collapsed": true
   },
   "outputs": [],
   "source": [
    "model = LSTMModel(embed_dim, hidden_dim, easy_label_map, batch_size)\n",
    "opti = torch.optim.Adam(model.parameters(), lr=1e-3, betas=(0.5, 0.999))\n",
    "crit = nn.CrossEntropyLoss()"
   ]
  },
  {
   "cell_type": "code",
   "execution_count": null,
   "metadata": {
    "collapsed": true
   },
   "outputs": [],
   "source": [
    "def evaluate(model, loader, batch_size):\n",
    "    model.eval()\n",
    "    correct = 0\n",
    "    total = 0\n",
    "    for i in loader:\n",
    "\n",
    "    for batch in loader:\n",
    "        if batch[0].size(0) != batch_size:\n",
    "            continue\n",
    "        x = Variable(batch[0])\n",
    "        hidden = model.init_hidden()\n",
    "        x = model(x, hidden)\n",
    "        _, predicted = torch.max(x.data, 1)\n",
    "        total += batch[1].size(0)\n",
    "        correct += (predicted == batch[1]).sum()\n",
    "\n",
    "    return correct / float(total)"
   ]
  },
  {
   "cell_type": "code",
   "execution_count": null,
   "metadata": {
    "collapsed": true
   },
   "outputs": [],
   "source": [
    "step = 0\n",
    "step_log = []\n",
    "loss_log = []\n",
    "val_acc_log = []\n",
    "for batch in train_loader:\n",
    "    if batch[0].size(0) != batch_size:\n",
    "        continue\n",
    "    model.zero_grad()\n",
    "    x = Variable(batch[0])\n",
    "    hidden = model.init_hidden()\n",
    "    x = model(x, hidden)\n",
    "    loss = crit(x, Variable(batch[1].view(-1)))\n",
    "    loss.backward()\n",
    "    opti.step()\n",
    "    \n",
    "    if step % 100 == 0:\n",
    "        val_acc = evaluate(model, val_loader, batch_size)\n",
    "        print(\"Step: %d, Loss: %.4f, Validation Acc: %.2f\"%(step, loss.data[0], val_acc))\n",
    "        step_log.append(step)\n",
    "        loss_log.append(loss.data[0])\n",
    "        val_acc_log.append(val_acc)\n",
    "    step += 1\n",
    "    if step == 20:\n",
    "        break\n"
   ]
  },
  {
   "cell_type": "code",
   "execution_count": null,
   "metadata": {
    "collapsed": true
   },
   "outputs": [],
   "source": [
    "import matplotlib.pyplot as plt\n",
    "%matplotlib inline\n",
    "\n",
    "plt.plot(step_log, loss_log)"
   ]
  }
 ],
 "metadata": {
  "kernelspec": {
   "display_name": "Python 3",
   "language": "python3",
   "name": "python3"
  },
  "language_info": {
   "codemirror_mode": {
    "name": "ipython",
    "version": 2
   },
   "file_extension": ".py",
   "mimetype": "text/x-python",
   "name": "python",
   "nbconvert_exporter": "python",
   "pygments_lexer": "ipython2",
   "version": "2.7.6"
  }
 },
 "nbformat": 4,
 "nbformat_minor": 2
}
